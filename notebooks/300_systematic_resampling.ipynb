{
 "cells": [
  {
   "cell_type": "code",
   "execution_count": 1,
   "id": "ce4d5a37",
   "metadata": {},
   "outputs": [],
   "source": [
    "import json\n",
    "\n",
    "from climateforcing.utils import mkdir_p\n",
    "import fair\n",
    "import matplotlib.pyplot as pl\n",
    "import numpy as np\n",
    "import pandas as pd\n",
    "import scipy.stats as st\n",
    "\n",
    "import xarray as xr\n",
    "from itertools import product\n",
    "\n",
    "# Reproducible figures\n",
    "np.random.seed(42)"
   ]
  },
  {
   "cell_type": "markdown",
   "id": "6592dba0",
   "metadata": {},
   "source": [
    "## Set up plotting styles"
   ]
  },
  {
   "cell_type": "markdown",
   "id": "f612a057",
   "metadata": {},
   "source": [
    "## Load up saved output"
   ]
  },
  {
   "cell_type": "code",
   "execution_count": 2,
   "id": "45bc9848",
   "metadata": {},
   "outputs": [],
   "source": [
    "df_in = {}\n",
    "for var in ['temperature', 'ERFaer']:\n",
    "    df_in[var] = pd.read_csv('../data_output/fair_{}/ssp126.csv'.format(var), index_col='year')"
   ]
  },
  {
   "cell_type": "code",
   "execution_count": 3,
   "id": "6cb78a61",
   "metadata": {},
   "outputs": [
    {
     "data": {
      "text/plain": [
       "3751"
      ]
     },
     "execution_count": 3,
     "metadata": {},
     "output_type": "execute_result"
    }
   ],
   "source": [
    "n_ens = df_in['temperature'].shape[1]\n",
    "n_ens"
   ]
  },
  {
   "cell_type": "markdown",
   "id": "6551c7cb",
   "metadata": {},
   "source": [
    "## Characterise by aerosol forcing"
   ]
  },
  {
   "cell_type": "code",
   "execution_count": 4,
   "id": "e6d285a1-0b81-4a5c-9556-ecfccaaa6a81",
   "metadata": {},
   "outputs": [],
   "source": [
    "n_scalings = 5\n",
    "n_shifts = 5\n",
    "scalings = np.logspace(0., -1., n_scalings)\n",
    "shifts = np.linspace(-1.5, -0.4, n_shifts)"
   ]
  },
  {
   "cell_type": "code",
   "execution_count": 5,
   "id": "8209a462-a86c-45c6-9090-898c34d1427b",
   "metadata": {},
   "outputs": [
    {
     "data": {
      "text/html": [
       "<div><svg style=\"position: absolute; width: 0; height: 0; overflow: hidden\">\n",
       "<defs>\n",
       "<symbol id=\"icon-database\" viewBox=\"0 0 32 32\">\n",
       "<path d=\"M16 0c-8.837 0-16 2.239-16 5v4c0 2.761 7.163 5 16 5s16-2.239 16-5v-4c0-2.761-7.163-5-16-5z\"></path>\n",
       "<path d=\"M16 17c-8.837 0-16-2.239-16-5v6c0 2.761 7.163 5 16 5s16-2.239 16-5v-6c0 2.761-7.163 5-16 5z\"></path>\n",
       "<path d=\"M16 26c-8.837 0-16-2.239-16-5v6c0 2.761 7.163 5 16 5s16-2.239 16-5v-6c0 2.761-7.163 5-16 5z\"></path>\n",
       "</symbol>\n",
       "<symbol id=\"icon-file-text2\" viewBox=\"0 0 32 32\">\n",
       "<path d=\"M28.681 7.159c-0.694-0.947-1.662-2.053-2.724-3.116s-2.169-2.030-3.116-2.724c-1.612-1.182-2.393-1.319-2.841-1.319h-15.5c-1.378 0-2.5 1.121-2.5 2.5v27c0 1.378 1.122 2.5 2.5 2.5h23c1.378 0 2.5-1.122 2.5-2.5v-19.5c0-0.448-0.137-1.23-1.319-2.841zM24.543 5.457c0.959 0.959 1.712 1.825 2.268 2.543h-4.811v-4.811c0.718 0.556 1.584 1.309 2.543 2.268zM28 29.5c0 0.271-0.229 0.5-0.5 0.5h-23c-0.271 0-0.5-0.229-0.5-0.5v-27c0-0.271 0.229-0.5 0.5-0.5 0 0 15.499-0 15.5 0v7c0 0.552 0.448 1 1 1h7v19.5z\"></path>\n",
       "<path d=\"M23 26h-14c-0.552 0-1-0.448-1-1s0.448-1 1-1h14c0.552 0 1 0.448 1 1s-0.448 1-1 1z\"></path>\n",
       "<path d=\"M23 22h-14c-0.552 0-1-0.448-1-1s0.448-1 1-1h14c0.552 0 1 0.448 1 1s-0.448 1-1 1z\"></path>\n",
       "<path d=\"M23 18h-14c-0.552 0-1-0.448-1-1s0.448-1 1-1h14c0.552 0 1 0.448 1 1s-0.448 1-1 1z\"></path>\n",
       "</symbol>\n",
       "</defs>\n",
       "</svg>\n",
       "<style>/* CSS stylesheet for displaying xarray objects in jupyterlab.\n",
       " *\n",
       " */\n",
       "\n",
       ":root {\n",
       "  --xr-font-color0: var(--jp-content-font-color0, rgba(0, 0, 0, 1));\n",
       "  --xr-font-color2: var(--jp-content-font-color2, rgba(0, 0, 0, 0.54));\n",
       "  --xr-font-color3: var(--jp-content-font-color3, rgba(0, 0, 0, 0.38));\n",
       "  --xr-border-color: var(--jp-border-color2, #e0e0e0);\n",
       "  --xr-disabled-color: var(--jp-layout-color3, #bdbdbd);\n",
       "  --xr-background-color: var(--jp-layout-color0, white);\n",
       "  --xr-background-color-row-even: var(--jp-layout-color1, white);\n",
       "  --xr-background-color-row-odd: var(--jp-layout-color2, #eeeeee);\n",
       "}\n",
       "\n",
       "html[theme=dark],\n",
       "body.vscode-dark {\n",
       "  --xr-font-color0: rgba(255, 255, 255, 1);\n",
       "  --xr-font-color2: rgba(255, 255, 255, 0.54);\n",
       "  --xr-font-color3: rgba(255, 255, 255, 0.38);\n",
       "  --xr-border-color: #1F1F1F;\n",
       "  --xr-disabled-color: #515151;\n",
       "  --xr-background-color: #111111;\n",
       "  --xr-background-color-row-even: #111111;\n",
       "  --xr-background-color-row-odd: #313131;\n",
       "}\n",
       "\n",
       ".xr-wrap {\n",
       "  display: block;\n",
       "  min-width: 300px;\n",
       "  max-width: 700px;\n",
       "}\n",
       "\n",
       ".xr-text-repr-fallback {\n",
       "  /* fallback to plain text repr when CSS is not injected (untrusted notebook) */\n",
       "  display: none;\n",
       "}\n",
       "\n",
       ".xr-header {\n",
       "  padding-top: 6px;\n",
       "  padding-bottom: 6px;\n",
       "  margin-bottom: 4px;\n",
       "  border-bottom: solid 1px var(--xr-border-color);\n",
       "}\n",
       "\n",
       ".xr-header > div,\n",
       ".xr-header > ul {\n",
       "  display: inline;\n",
       "  margin-top: 0;\n",
       "  margin-bottom: 0;\n",
       "}\n",
       "\n",
       ".xr-obj-type,\n",
       ".xr-array-name {\n",
       "  margin-left: 2px;\n",
       "  margin-right: 10px;\n",
       "}\n",
       "\n",
       ".xr-obj-type {\n",
       "  color: var(--xr-font-color2);\n",
       "}\n",
       "\n",
       ".xr-sections {\n",
       "  padding-left: 0 !important;\n",
       "  display: grid;\n",
       "  grid-template-columns: 150px auto auto 1fr 20px 20px;\n",
       "}\n",
       "\n",
       ".xr-section-item {\n",
       "  display: contents;\n",
       "}\n",
       "\n",
       ".xr-section-item input {\n",
       "  display: none;\n",
       "}\n",
       "\n",
       ".xr-section-item input + label {\n",
       "  color: var(--xr-disabled-color);\n",
       "}\n",
       "\n",
       ".xr-section-item input:enabled + label {\n",
       "  cursor: pointer;\n",
       "  color: var(--xr-font-color2);\n",
       "}\n",
       "\n",
       ".xr-section-item input:enabled + label:hover {\n",
       "  color: var(--xr-font-color0);\n",
       "}\n",
       "\n",
       ".xr-section-summary {\n",
       "  grid-column: 1;\n",
       "  color: var(--xr-font-color2);\n",
       "  font-weight: 500;\n",
       "}\n",
       "\n",
       ".xr-section-summary > span {\n",
       "  display: inline-block;\n",
       "  padding-left: 0.5em;\n",
       "}\n",
       "\n",
       ".xr-section-summary-in:disabled + label {\n",
       "  color: var(--xr-font-color2);\n",
       "}\n",
       "\n",
       ".xr-section-summary-in + label:before {\n",
       "  display: inline-block;\n",
       "  content: '►';\n",
       "  font-size: 11px;\n",
       "  width: 15px;\n",
       "  text-align: center;\n",
       "}\n",
       "\n",
       ".xr-section-summary-in:disabled + label:before {\n",
       "  color: var(--xr-disabled-color);\n",
       "}\n",
       "\n",
       ".xr-section-summary-in:checked + label:before {\n",
       "  content: '▼';\n",
       "}\n",
       "\n",
       ".xr-section-summary-in:checked + label > span {\n",
       "  display: none;\n",
       "}\n",
       "\n",
       ".xr-section-summary,\n",
       ".xr-section-inline-details {\n",
       "  padding-top: 4px;\n",
       "  padding-bottom: 4px;\n",
       "}\n",
       "\n",
       ".xr-section-inline-details {\n",
       "  grid-column: 2 / -1;\n",
       "}\n",
       "\n",
       ".xr-section-details {\n",
       "  display: none;\n",
       "  grid-column: 1 / -1;\n",
       "  margin-bottom: 5px;\n",
       "}\n",
       "\n",
       ".xr-section-summary-in:checked ~ .xr-section-details {\n",
       "  display: contents;\n",
       "}\n",
       "\n",
       ".xr-array-wrap {\n",
       "  grid-column: 1 / -1;\n",
       "  display: grid;\n",
       "  grid-template-columns: 20px auto;\n",
       "}\n",
       "\n",
       ".xr-array-wrap > label {\n",
       "  grid-column: 1;\n",
       "  vertical-align: top;\n",
       "}\n",
       "\n",
       ".xr-preview {\n",
       "  color: var(--xr-font-color3);\n",
       "}\n",
       "\n",
       ".xr-array-preview,\n",
       ".xr-array-data {\n",
       "  padding: 0 5px !important;\n",
       "  grid-column: 2;\n",
       "}\n",
       "\n",
       ".xr-array-data,\n",
       ".xr-array-in:checked ~ .xr-array-preview {\n",
       "  display: none;\n",
       "}\n",
       "\n",
       ".xr-array-in:checked ~ .xr-array-data,\n",
       ".xr-array-preview {\n",
       "  display: inline-block;\n",
       "}\n",
       "\n",
       ".xr-dim-list {\n",
       "  display: inline-block !important;\n",
       "  list-style: none;\n",
       "  padding: 0 !important;\n",
       "  margin: 0;\n",
       "}\n",
       "\n",
       ".xr-dim-list li {\n",
       "  display: inline-block;\n",
       "  padding: 0;\n",
       "  margin: 0;\n",
       "}\n",
       "\n",
       ".xr-dim-list:before {\n",
       "  content: '(';\n",
       "}\n",
       "\n",
       ".xr-dim-list:after {\n",
       "  content: ')';\n",
       "}\n",
       "\n",
       ".xr-dim-list li:not(:last-child):after {\n",
       "  content: ',';\n",
       "  padding-right: 5px;\n",
       "}\n",
       "\n",
       ".xr-has-index {\n",
       "  font-weight: bold;\n",
       "}\n",
       "\n",
       ".xr-var-list,\n",
       ".xr-var-item {\n",
       "  display: contents;\n",
       "}\n",
       "\n",
       ".xr-var-item > div,\n",
       ".xr-var-item label,\n",
       ".xr-var-item > .xr-var-name span {\n",
       "  background-color: var(--xr-background-color-row-even);\n",
       "  margin-bottom: 0;\n",
       "}\n",
       "\n",
       ".xr-var-item > .xr-var-name:hover span {\n",
       "  padding-right: 5px;\n",
       "}\n",
       "\n",
       ".xr-var-list > li:nth-child(odd) > div,\n",
       ".xr-var-list > li:nth-child(odd) > label,\n",
       ".xr-var-list > li:nth-child(odd) > .xr-var-name span {\n",
       "  background-color: var(--xr-background-color-row-odd);\n",
       "}\n",
       "\n",
       ".xr-var-name {\n",
       "  grid-column: 1;\n",
       "}\n",
       "\n",
       ".xr-var-dims {\n",
       "  grid-column: 2;\n",
       "}\n",
       "\n",
       ".xr-var-dtype {\n",
       "  grid-column: 3;\n",
       "  text-align: right;\n",
       "  color: var(--xr-font-color2);\n",
       "}\n",
       "\n",
       ".xr-var-preview {\n",
       "  grid-column: 4;\n",
       "}\n",
       "\n",
       ".xr-var-name,\n",
       ".xr-var-dims,\n",
       ".xr-var-dtype,\n",
       ".xr-preview,\n",
       ".xr-attrs dt {\n",
       "  white-space: nowrap;\n",
       "  overflow: hidden;\n",
       "  text-overflow: ellipsis;\n",
       "  padding-right: 10px;\n",
       "}\n",
       "\n",
       ".xr-var-name:hover,\n",
       ".xr-var-dims:hover,\n",
       ".xr-var-dtype:hover,\n",
       ".xr-attrs dt:hover {\n",
       "  overflow: visible;\n",
       "  width: auto;\n",
       "  z-index: 1;\n",
       "}\n",
       "\n",
       ".xr-var-attrs,\n",
       ".xr-var-data {\n",
       "  display: none;\n",
       "  background-color: var(--xr-background-color) !important;\n",
       "  padding-bottom: 5px !important;\n",
       "}\n",
       "\n",
       ".xr-var-attrs-in:checked ~ .xr-var-attrs,\n",
       ".xr-var-data-in:checked ~ .xr-var-data {\n",
       "  display: block;\n",
       "}\n",
       "\n",
       ".xr-var-data > table {\n",
       "  float: right;\n",
       "}\n",
       "\n",
       ".xr-var-name span,\n",
       ".xr-var-data,\n",
       ".xr-attrs {\n",
       "  padding-left: 25px !important;\n",
       "}\n",
       "\n",
       ".xr-attrs,\n",
       ".xr-var-attrs,\n",
       ".xr-var-data {\n",
       "  grid-column: 1 / -1;\n",
       "}\n",
       "\n",
       "dl.xr-attrs {\n",
       "  padding: 0;\n",
       "  margin: 0;\n",
       "  display: grid;\n",
       "  grid-template-columns: 125px auto;\n",
       "}\n",
       "\n",
       ".xr-attrs dt,\n",
       ".xr-attrs dd {\n",
       "  padding: 0;\n",
       "  margin: 0;\n",
       "  float: left;\n",
       "  padding-right: 10px;\n",
       "  width: auto;\n",
       "}\n",
       "\n",
       ".xr-attrs dt {\n",
       "  font-weight: normal;\n",
       "  grid-column: 1;\n",
       "}\n",
       "\n",
       ".xr-attrs dt:hover span {\n",
       "  display: inline-block;\n",
       "  background: var(--xr-background-color);\n",
       "  padding-right: 10px;\n",
       "}\n",
       "\n",
       ".xr-attrs dd {\n",
       "  grid-column: 2;\n",
       "  white-space: pre-wrap;\n",
       "  word-break: break-all;\n",
       "}\n",
       "\n",
       ".xr-icon-database,\n",
       ".xr-icon-file-text2 {\n",
       "  display: inline-block;\n",
       "  vertical-align: middle;\n",
       "  width: 1em;\n",
       "  height: 1.5em !important;\n",
       "  stroke-width: 0;\n",
       "  stroke: currentColor;\n",
       "  fill: currentColor;\n",
       "}\n",
       "</style><pre class='xr-text-repr-fallback'>&lt;xarray.Dataset&gt;\n",
       "Dimensions:                                     (shifts: 5, scalings: 5, member: 3751, quantile: 1)\n",
       "Coordinates:\n",
       "  * shifts                                      (shifts) float64 -1.5 ... -0.4\n",
       "  * scalings                                    (scalings) float64 1.0 ... 0.1\n",
       "  * member                                      (member) int64 0 1 ... 3749 3750\n",
       "  * quantile                                    (quantile) float64 0.95\n",
       "Data variables:\n",
       "    constraint                                  (shifts, scalings, member) bool ...\n",
       "    ECS                                         (member) float64 -1.322 ... -...\n",
       "    Mean ERF                                    (shifts, scalings) float64 -1...\n",
       "    ERF Uncertainty                             (shifts, scalings) float64 0....\n",
       "    Temperature change by 2050 (K)              (shifts, scalings) float64 1....\n",
       "    Temperature change by 2100 (K)              (shifts, scalings) float64 1....\n",
       "    Uncertainty in 2100 temperature change (K)  (quantile, shifts, scalings) float64 ...</pre><div class='xr-wrap' hidden><div class='xr-header'><div class='xr-obj-type'>xarray.Dataset</div></div><ul class='xr-sections'><li class='xr-section-item'><input id='section-f48ff539-a234-43cb-9f62-48b587498c80' class='xr-section-summary-in' type='checkbox' disabled ><label for='section-f48ff539-a234-43cb-9f62-48b587498c80' class='xr-section-summary'  title='Expand/collapse section'>Dimensions:</label><div class='xr-section-inline-details'><ul class='xr-dim-list'><li><span class='xr-has-index'>shifts</span>: 5</li><li><span class='xr-has-index'>scalings</span>: 5</li><li><span class='xr-has-index'>member</span>: 3751</li><li><span class='xr-has-index'>quantile</span>: 1</li></ul></div><div class='xr-section-details'></div></li><li class='xr-section-item'><input id='section-3c005b56-0657-41d8-b301-32cddb0f4ac8' class='xr-section-summary-in' type='checkbox'  checked><label for='section-3c005b56-0657-41d8-b301-32cddb0f4ac8' class='xr-section-summary' >Coordinates: <span>(4)</span></label><div class='xr-section-inline-details'></div><div class='xr-section-details'><ul class='xr-var-list'><li class='xr-var-item'><div class='xr-var-name'><span class='xr-has-index'>shifts</span></div><div class='xr-var-dims'>(shifts)</div><div class='xr-var-dtype'>float64</div><div class='xr-var-preview xr-preview'>-1.5 -1.225 -0.95 -0.675 -0.4</div><input id='attrs-f42b3768-50c6-4179-9b1e-dcb426a80ff3' class='xr-var-attrs-in' type='checkbox' disabled><label for='attrs-f42b3768-50c6-4179-9b1e-dcb426a80ff3' title='Show/Hide attributes'><svg class='icon xr-icon-file-text2'><use xlink:href='#icon-file-text2'></use></svg></label><input id='data-276d9731-cd1f-4afa-8efe-d5bdc3f0392c' class='xr-var-data-in' type='checkbox'><label for='data-276d9731-cd1f-4afa-8efe-d5bdc3f0392c' title='Show/Hide data repr'><svg class='icon xr-icon-database'><use xlink:href='#icon-database'></use></svg></label><div class='xr-var-attrs'><dl class='xr-attrs'></dl></div><div class='xr-var-data'><pre>array([-1.5  , -1.225, -0.95 , -0.675, -0.4  ])</pre></div></li><li class='xr-var-item'><div class='xr-var-name'><span class='xr-has-index'>scalings</span></div><div class='xr-var-dims'>(scalings)</div><div class='xr-var-dtype'>float64</div><div class='xr-var-preview xr-preview'>1.0 0.5623 0.3162 0.1778 0.1</div><input id='attrs-d2d7ea69-d746-43a7-8066-d5488ea5c3b8' class='xr-var-attrs-in' type='checkbox' disabled><label for='attrs-d2d7ea69-d746-43a7-8066-d5488ea5c3b8' title='Show/Hide attributes'><svg class='icon xr-icon-file-text2'><use xlink:href='#icon-file-text2'></use></svg></label><input id='data-987bea5d-3d45-4bb1-a1f4-d13e855dd802' class='xr-var-data-in' type='checkbox'><label for='data-987bea5d-3d45-4bb1-a1f4-d13e855dd802' title='Show/Hide data repr'><svg class='icon xr-icon-database'><use xlink:href='#icon-database'></use></svg></label><div class='xr-var-attrs'><dl class='xr-attrs'></dl></div><div class='xr-var-data'><pre>array([1.      , 0.562341, 0.316228, 0.177828, 0.1     ])</pre></div></li><li class='xr-var-item'><div class='xr-var-name'><span class='xr-has-index'>member</span></div><div class='xr-var-dims'>(member)</div><div class='xr-var-dtype'>int64</div><div class='xr-var-preview xr-preview'>0 1 2 3 4 ... 3747 3748 3749 3750</div><input id='attrs-e3917f49-4a50-406a-b3cb-26471456177b' class='xr-var-attrs-in' type='checkbox' disabled><label for='attrs-e3917f49-4a50-406a-b3cb-26471456177b' title='Show/Hide attributes'><svg class='icon xr-icon-file-text2'><use xlink:href='#icon-file-text2'></use></svg></label><input id='data-e3de03b0-598e-499b-bc0f-dd49649f03ae' class='xr-var-data-in' type='checkbox'><label for='data-e3de03b0-598e-499b-bc0f-dd49649f03ae' title='Show/Hide data repr'><svg class='icon xr-icon-database'><use xlink:href='#icon-database'></use></svg></label><div class='xr-var-attrs'><dl class='xr-attrs'></dl></div><div class='xr-var-data'><pre>array([   0,    1,    2, ..., 3748, 3749, 3750])</pre></div></li><li class='xr-var-item'><div class='xr-var-name'><span class='xr-has-index'>quantile</span></div><div class='xr-var-dims'>(quantile)</div><div class='xr-var-dtype'>float64</div><div class='xr-var-preview xr-preview'>0.95</div><input id='attrs-dd3a4307-07cb-42ac-8629-df8fc2e9f086' class='xr-var-attrs-in' type='checkbox' disabled><label for='attrs-dd3a4307-07cb-42ac-8629-df8fc2e9f086' title='Show/Hide attributes'><svg class='icon xr-icon-file-text2'><use xlink:href='#icon-file-text2'></use></svg></label><input id='data-2f400097-a877-45bb-b572-844994bdbc91' class='xr-var-data-in' type='checkbox'><label for='data-2f400097-a877-45bb-b572-844994bdbc91' title='Show/Hide data repr'><svg class='icon xr-icon-database'><use xlink:href='#icon-database'></use></svg></label><div class='xr-var-attrs'><dl class='xr-attrs'></dl></div><div class='xr-var-data'><pre>array([0.95])</pre></div></li></ul></div></li><li class='xr-section-item'><input id='section-2b145ad3-c242-4781-b5fe-c098863fc49f' class='xr-section-summary-in' type='checkbox'  checked><label for='section-2b145ad3-c242-4781-b5fe-c098863fc49f' class='xr-section-summary' >Data variables: <span>(7)</span></label><div class='xr-section-inline-details'></div><div class='xr-section-details'><ul class='xr-var-list'><li class='xr-var-item'><div class='xr-var-name'><span>constraint</span></div><div class='xr-var-dims'>(shifts, scalings, member)</div><div class='xr-var-dtype'>bool</div><div class='xr-var-preview xr-preview'>True True False ... False False</div><input id='attrs-7d47270f-b2bb-4504-9481-178b3bb5f505' class='xr-var-attrs-in' type='checkbox' disabled><label for='attrs-7d47270f-b2bb-4504-9481-178b3bb5f505' title='Show/Hide attributes'><svg class='icon xr-icon-file-text2'><use xlink:href='#icon-file-text2'></use></svg></label><input id='data-9412bde3-0b90-43c9-b143-71da48e04e0a' class='xr-var-data-in' type='checkbox'><label for='data-9412bde3-0b90-43c9-b143-71da48e04e0a' title='Show/Hide data repr'><svg class='icon xr-icon-database'><use xlink:href='#icon-database'></use></svg></label><div class='xr-var-attrs'><dl class='xr-attrs'></dl></div><div class='xr-var-data'><pre>array([[[ True,  True, False, ...,  True, False, False],\n",
       "        [ True,  True, False, ..., False, False, False],\n",
       "        [ True,  True, False, ..., False, False, False],\n",
       "        [False,  True, False, ..., False, False, False],\n",
       "        [ True, False, False, ..., False, False, False]],\n",
       "\n",
       "       [[ True,  True,  True, ..., False,  True,  True],\n",
       "        [ True,  True,  True, ...,  True,  True, False],\n",
       "        [ True,  True, False, ..., False, False,  True],\n",
       "        [ True,  True, False, ..., False, False, False],\n",
       "        [False,  True, False, ..., False, False, False]],\n",
       "\n",
       "       [[ True,  True, False, ...,  True,  True,  True],\n",
       "        [False,  True,  True, ...,  True,  True,  True],\n",
       "        [False,  True, False, ...,  True,  True,  True],\n",
       "        [ True, False, False, ..., False,  True,  True],\n",
       "        [False, False, False, ..., False,  True,  True]],\n",
       "\n",
       "       [[ True, False,  True, ...,  True,  True,  True],\n",
       "        [False,  True,  True, ...,  True,  True,  True],\n",
       "        [False, False, False, ...,  True,  True, False],\n",
       "        [False, False, False, ...,  True, False, False],\n",
       "        [False, False, False, ...,  True,  True, False]],\n",
       "\n",
       "       [[ True,  True,  True, ...,  True,  True, False],\n",
       "        [False, False,  True, ...,  True,  True,  True],\n",
       "        [False, False,  True, ..., False,  True, False],\n",
       "        [False, False,  True, ...,  True, False, False],\n",
       "        [False, False,  True, ..., False, False, False]]])</pre></div></li><li class='xr-var-item'><div class='xr-var-name'><span>ECS</span></div><div class='xr-var-dims'>(member)</div><div class='xr-var-dtype'>float64</div><div class='xr-var-preview xr-preview'>-1.322 -1.312 ... -0.8194 -0.8275</div><input id='attrs-46008e74-913d-44f4-84db-180cdaab5d8a' class='xr-var-attrs-in' type='checkbox' disabled><label for='attrs-46008e74-913d-44f4-84db-180cdaab5d8a' title='Show/Hide attributes'><svg class='icon xr-icon-file-text2'><use xlink:href='#icon-file-text2'></use></svg></label><input id='data-d7f8d8ff-5a4d-42a9-8bc9-94e90efa2f69' class='xr-var-data-in' type='checkbox'><label for='data-d7f8d8ff-5a4d-42a9-8bc9-94e90efa2f69' title='Show/Hide data repr'><svg class='icon xr-icon-database'><use xlink:href='#icon-database'></use></svg></label><div class='xr-var-attrs'><dl class='xr-attrs'></dl></div><div class='xr-var-data'><pre>array([-1.32238, -1.31243, -0.3676 , ..., -0.69738, -0.81941, -0.82748])</pre></div></li><li class='xr-var-item'><div class='xr-var-name'><span>Mean ERF</span></div><div class='xr-var-dims'>(shifts, scalings)</div><div class='xr-var-dtype'>float64</div><div class='xr-var-preview xr-preview'>-1.188 -1.242 ... -0.5588 -0.4748</div><input id='attrs-9d93508f-c36d-47d0-94e5-3c56a95fdb61' class='xr-var-attrs-in' type='checkbox' disabled><label for='attrs-9d93508f-c36d-47d0-94e5-3c56a95fdb61' title='Show/Hide attributes'><svg class='icon xr-icon-file-text2'><use xlink:href='#icon-file-text2'></use></svg></label><input id='data-372c98aa-65ba-4451-9c4b-a006bae66e13' class='xr-var-data-in' type='checkbox'><label for='data-372c98aa-65ba-4451-9c4b-a006bae66e13' title='Show/Hide data repr'><svg class='icon xr-icon-database'><use xlink:href='#icon-database'></use></svg></label><div class='xr-var-attrs'><dl class='xr-attrs'></dl></div><div class='xr-var-data'><pre>array([[-1.18795031, -1.24245706, -1.3325236 , -1.41554449, -1.47153301],\n",
       "       [-1.15487428, -1.17219532, -1.18729642, -1.20534754, -1.21784533],\n",
       "       [-1.13153945, -1.10228087, -1.05646471, -1.00166449, -0.96679156],\n",
       "       [-1.10643764, -1.03743121, -0.90732074, -0.78655103, -0.71133672],\n",
       "       [-1.08033346, -0.96134972, -0.77555232, -0.5587845 , -0.47481554]])</pre></div></li><li class='xr-var-item'><div class='xr-var-name'><span>ERF Uncertainty</span></div><div class='xr-var-dims'>(shifts, scalings)</div><div class='xr-var-dtype'>float64</div><div class='xr-var-preview xr-preview'>0.3091 0.28 ... 0.147 0.08745</div><input id='attrs-5da13c16-0280-4dff-8bbf-47becf464d2f' class='xr-var-attrs-in' type='checkbox' disabled><label for='attrs-5da13c16-0280-4dff-8bbf-47becf464d2f' title='Show/Hide attributes'><svg class='icon xr-icon-file-text2'><use xlink:href='#icon-file-text2'></use></svg></label><input id='data-94cadda4-8cba-41bb-804d-dfc1c965dd08' class='xr-var-data-in' type='checkbox'><label for='data-94cadda4-8cba-41bb-804d-dfc1c965dd08' title='Show/Hide data repr'><svg class='icon xr-icon-database'><use xlink:href='#icon-database'></use></svg></label><div class='xr-var-attrs'><dl class='xr-attrs'></dl></div><div class='xr-var-data'><pre>array([[0.30905238, 0.28002553, 0.22518457, 0.16022075, 0.09659607],\n",
       "       [0.31049933, 0.28146686, 0.23117174, 0.15927944, 0.09893914],\n",
       "       [0.30762094, 0.28251416, 0.22620956, 0.15262273, 0.09503382],\n",
       "       [0.30884173, 0.27948174, 0.22832363, 0.1567919 , 0.09678959],\n",
       "       [0.30993063, 0.28542618, 0.23829794, 0.1469807 , 0.08745496]])</pre></div></li><li class='xr-var-item'><div class='xr-var-name'><span>Temperature change by 2050 (K)</span></div><div class='xr-var-dims'>(shifts, scalings)</div><div class='xr-var-dtype'>float64</div><div class='xr-var-preview xr-preview'>1.694 1.73 1.78 ... 1.408 1.387</div><input id='attrs-79eaacf3-c5a4-4c63-9297-b18d0ca2bc24' class='xr-var-attrs-in' type='checkbox' disabled><label for='attrs-79eaacf3-c5a4-4c63-9297-b18d0ca2bc24' title='Show/Hide attributes'><svg class='icon xr-icon-file-text2'><use xlink:href='#icon-file-text2'></use></svg></label><input id='data-308f2555-cdb4-42e5-9194-fc86a83cd0c1' class='xr-var-data-in' type='checkbox'><label for='data-308f2555-cdb4-42e5-9194-fc86a83cd0c1' title='Show/Hide data repr'><svg class='icon xr-icon-database'><use xlink:href='#icon-database'></use></svg></label><div class='xr-var-attrs'><dl class='xr-attrs'></dl></div><div class='xr-var-data'><pre>array([[1.6938 , 1.7303 , 1.7803 , 1.84625, 1.8688 ],\n",
       "       [1.67475, 1.68845, 1.6969 , 1.7083 , 1.7229 ],\n",
       "       [1.6632 , 1.6452 , 1.62685, 1.5976 , 1.5795 ],\n",
       "       [1.6495 , 1.6224 , 1.54845, 1.49845, 1.46655],\n",
       "       [1.6321 , 1.5693 , 1.4904 , 1.40755, 1.3869 ]])</pre></div></li><li class='xr-var-item'><div class='xr-var-name'><span>Temperature change by 2100 (K)</span></div><div class='xr-var-dims'>(shifts, scalings)</div><div class='xr-var-dtype'>float64</div><div class='xr-var-preview xr-preview'>1.64 1.682 1.751 ... 1.313 1.302</div><input id='attrs-3acc4fd3-b362-4452-a2d1-96087a759355' class='xr-var-attrs-in' type='checkbox' disabled><label for='attrs-3acc4fd3-b362-4452-a2d1-96087a759355' title='Show/Hide attributes'><svg class='icon xr-icon-file-text2'><use xlink:href='#icon-file-text2'></use></svg></label><input id='data-48e0fcd7-1ea8-491b-b45f-f00f5b05e7ca' class='xr-var-data-in' type='checkbox'><label for='data-48e0fcd7-1ea8-491b-b45f-f00f5b05e7ca' title='Show/Hide data repr'><svg class='icon xr-icon-database'><use xlink:href='#icon-database'></use></svg></label><div class='xr-var-attrs'><dl class='xr-attrs'></dl></div><div class='xr-var-data'><pre>array([[1.6397 , 1.6824 , 1.7512 , 1.82325, 1.8753 ],\n",
       "       [1.61785, 1.6279 , 1.6416 , 1.651  , 1.665  ],\n",
       "       [1.5974 , 1.5748 , 1.5526 , 1.519  , 1.49245],\n",
       "       [1.5795 , 1.54335, 1.46565, 1.39805, 1.37285],\n",
       "       [1.56595, 1.4941 , 1.3959 , 1.3132 , 1.302  ]])</pre></div></li><li class='xr-var-item'><div class='xr-var-name'><span>Uncertainty in 2100 temperature change (K)</span></div><div class='xr-var-dims'>(quantile, shifts, scalings)</div><div class='xr-var-dtype'>float64</div><div class='xr-var-preview xr-preview'>1.138 1.113 1.097 ... 0.6311 0.4995</div><input id='attrs-9a284d4b-cc4e-436c-bbcf-6ead31e5f5a5' class='xr-var-attrs-in' type='checkbox' disabled><label for='attrs-9a284d4b-cc4e-436c-bbcf-6ead31e5f5a5' title='Show/Hide attributes'><svg class='icon xr-icon-file-text2'><use xlink:href='#icon-file-text2'></use></svg></label><input id='data-7414d10f-81c8-4d26-96e6-3c7a4aa7726a' class='xr-var-data-in' type='checkbox'><label for='data-7414d10f-81c8-4d26-96e6-3c7a4aa7726a' title='Show/Hide data repr'><svg class='icon xr-icon-database'><use xlink:href='#icon-database'></use></svg></label><div class='xr-var-attrs'><dl class='xr-attrs'></dl></div><div class='xr-var-data'><pre>array([[[1.13846 , 1.11316 , 1.09695 , 1.0894  , 1.0199  ],\n",
       "        [1.11552 , 1.0933  , 1.03147 , 0.9528  , 0.93034 ],\n",
       "        [1.1077  , 1.04325 , 0.9486  , 0.84612 , 0.791395],\n",
       "        [1.08575 , 1.00389 , 0.8646  , 0.723375, 0.71253 ],\n",
       "        [1.0662  , 0.95775 , 0.80884 , 0.631145, 0.4995  ]]])</pre></div></li></ul></div></li><li class='xr-section-item'><input id='section-6fdcad4d-b0dd-4fd9-a257-b1783aaa9366' class='xr-section-summary-in' type='checkbox' disabled ><label for='section-6fdcad4d-b0dd-4fd9-a257-b1783aaa9366' class='xr-section-summary'  title='Expand/collapse section'>Attributes: <span>(0)</span></label><div class='xr-section-inline-details'></div><div class='xr-section-details'><dl class='xr-attrs'></dl></div></li></ul></div></div>"
      ],
      "text/plain": [
       "<xarray.Dataset>\n",
       "Dimensions:                                     (shifts: 5, scalings: 5, member: 3751, quantile: 1)\n",
       "Coordinates:\n",
       "  * shifts                                      (shifts) float64 -1.5 ... -0.4\n",
       "  * scalings                                    (scalings) float64 1.0 ... 0.1\n",
       "  * member                                      (member) int64 0 1 ... 3749 3750\n",
       "  * quantile                                    (quantile) float64 0.95\n",
       "Data variables:\n",
       "    constraint                                  (shifts, scalings, member) bool ...\n",
       "    ECS                                         (member) float64 -1.322 ... -...\n",
       "    Mean ERF                                    (shifts, scalings) float64 -1...\n",
       "    ERF Uncertainty                             (shifts, scalings) float64 0....\n",
       "    Temperature change by 2050 (K)              (shifts, scalings) float64 1....\n",
       "    Temperature change by 2100 (K)              (shifts, scalings) float64 1....\n",
       "    Uncertainty in 2100 temperature change (K)  (quantile, shifts, scalings) float64 ..."
      ]
     },
     "execution_count": 5,
     "metadata": {},
     "output_type": "execute_result"
    }
   ],
   "source": [
    "ERFaer_PD = df_in['ERFaer'].loc[2005.5:2014.5,:].mean(axis=0)\n",
    "\n",
    "def _is_valid(shift_scale):\n",
    "    # TODO: It might be useful to add some sort of bootstrapping here for uncertainty estimates\n",
    "    shift, scale = shift_scale\n",
    "    erf_dist = st.norm(loc=shift, scale=scale)\n",
    "    return np.random.uniform(0., erf_dist.pdf(ERFaer_PD).max(), size=ERFaer_PD.shape)<=erf_dist.pdf(ERFaer_PD)\n",
    "\n",
    "# Failed attempt at vectorization, but it's quick anyway...\n",
    "# _shifts, _scalings = np.meshgrid(shifts, scalings)\n",
    "# func = np.vectorize(_is_valid, signature='(n),(m)->(m)')\n",
    "# _is_valid(*np.meshgrid(shifts, scalings))\n",
    "# xr.apply_ufunc(func, ecs_constraint, vectorize=True, input_core_dims=[[\"member\"]] output_core_dims=[['member']])\n",
    "\n",
    "res = np.asarray([x for x in map(_is_valid, product(shifts, scalings))])\n",
    "\n",
    "erf_constraint = xr.DataArray(data=res.reshape(n_shifts, n_scalings, -1),\n",
    "                              coords=[('shifts', shifts), ('scalings', scalings), ('member', np.arange(n_ens))])\n",
    "erf_da = xr.DataArray(ERFaer_PD, coords=[('member', np.arange(n_ens))])\n",
    "t_2050_da = xr.DataArray(df_in['temperature'].loc[2050.5, :], coords=[('member', np.arange(n_ens))])\n",
    "t_2100_da = xr.DataArray(df_in['temperature'].loc[2100.5, :], coords=[('member', np.arange(n_ens))])\n",
    "\n",
    "erf_ds = xr.Dataset({'constraint': erf_constraint, 'ECS': erf_da, \n",
    "                     'Mean ERF':erf_da.where(erf_constraint).mean('member'),\n",
    "                     'ERF Uncertainty':erf_da.where(erf_constraint).std('member'),\n",
    "                     'Temperature change by 2050 (K)':t_2050_da.where(erf_constraint).median('member'),\n",
    "                     'Temperature change by 2100 (K)':t_2100_da.where(erf_constraint).median('member'),\n",
    "                     'Uncertainty in 2100 temperature change (K)':t_2100_da.where(erf_constraint).quantile([0.05, 0.95], 'member').diff('quantile')})\n",
    "erf_ds"
   ]
  },
  {
   "cell_type": "code",
   "execution_count": 6,
   "id": "2b7340d1-9e35-4448-9a48-c8047ed9c5b6",
   "metadata": {},
   "outputs": [
    {
     "data": {
      "text/plain": [
       "<matplotlib.collections.QuadMesh at 0x7fbeab748590>"
      ]
     },
     "execution_count": 6,
     "metadata": {},
     "output_type": "execute_result"
    },
    {
     "data": {
      "image/png": "[encoded data removed]",
      "text/plain": [
       "<Figure size 432x288 with 2 Axes>"
      ]
     },
     "metadata": {
      "needs_background": "light"
     },
     "output_type": "display_data"
    }
   ],
   "source": [
    "erf_ds.constraint.sum(\"member\").plot()"
   ]
  },
  {
   "cell_type": "code",
   "execution_count": 7,
   "id": "84b619a8-6270-421e-8685-c2d600aa32a6",
   "metadata": {},
   "outputs": [
    {
     "data": {
      "text/plain": [
       "[Text(0, 0.5, 'ERF Uncertainty (W m$^{-2}$)'),\n",
       " Text(0.5, 0, 'Mean ERF (W m$^{-2}$)')]"
      ]
     },
     "execution_count": 7,
     "metadata": {},
     "output_type": "execute_result"
    },
    {
     "data": {
      "image/png": "[encoded data removed]",
      "text/plain": [
       "<Figure size 432x288 with 2 Axes>"
      ]
     },
     "metadata": {
      "needs_background": "light"
     },
     "output_type": "display_data"
    }
   ],
   "source": [
    "erf_ds.plot.scatter('Mean ERF', 'ERF Uncertainty', hue='Uncertainty in 2100 temperature change (K)')\n",
    "pl.setp(pl.gca(), xlabel='Mean ERF (W m$^{-2}$)', ylabel='ERF Uncertainty (W m$^{-2}$)')"
   ]
  },
  {
   "cell_type": "code",
   "execution_count": 8,
   "id": "1f2e7b31-3cf8-4cd4-937d-5e9677432fc8",
   "metadata": {},
   "outputs": [
    {
     "data": {
      "text/plain": [
       "<matplotlib.collections.PathCollection at 0x7fbeab867fd0>"
      ]
     },
     "execution_count": 8,
     "metadata": {},
     "output_type": "execute_result"
    },
    {
     "data": {
      "image/png": "[encoded data removed]",
      "text/plain": [
       "<Figure size 432x288 with 2 Axes>"
      ]
     },
     "metadata": {
      "needs_background": "light"
     },
     "output_type": "display_data"
    }
   ],
   "source": [
    "erf_ds.plot.scatter('Mean ERF', 'ERF Uncertainty', hue='Temperature change by 2100 (K)')"
   ]
  },
  {
   "cell_type": "markdown",
   "id": "2f4336e3",
   "metadata": {},
   "source": [
    "## Characterise by ECS"
   ]
  },
  {
   "cell_type": "code",
   "execution_count": 9,
   "id": "ec404ac5",
   "metadata": {},
   "outputs": [],
   "source": [
    "with open('../data_input/ar6-fair-samples/fair-1.6.2-wg3-params-slim-reconstrained.json') as f:\n",
    "    config_list_variable = json.load(f)"
   ]
  },
  {
   "cell_type": "code",
   "execution_count": 10,
   "id": "7db21ec8",
   "metadata": {},
   "outputs": [],
   "source": [
    "def get_ecs(cfg):\n",
    "    return(cfg['F2x']/cfg['lambda_global'])"
   ]
  },
  {
   "cell_type": "code",
   "execution_count": 11,
   "id": "b33c77e8",
   "metadata": {},
   "outputs": [],
   "source": [
    "ecs = np.zeros(n_ens)\n",
    "for i, cfg in enumerate(config_list_variable):\n",
    "    ecs[i] = get_ecs(cfg)"
   ]
  },
  {
   "cell_type": "code",
   "execution_count": 12,
   "id": "fb698037",
   "metadata": {},
   "outputs": [
    {
     "name": "stdout",
     "output_type": "stream",
     "text": [
      "[2.04200537 2.20747924 2.3413273  2.41607745 2.95374193 3.76714372\n",
      " 3.9547568  4.41953287 5.12734391]\n"
     ]
    },
    {
     "data": {
      "image/png": "[encoded data removed]",
      "text/plain": [
       "<Figure size 432x288 with 1 Axes>"
      ]
     },
     "metadata": {
      "needs_background": "light"
     },
     "output_type": "display_data"
    }
   ],
   "source": [
    "pl.hist(ecs, bins=np.arange(0, 14, 0.5))\n",
    "print(np.percentile(ecs, (5, 10, 16, 20, 50, 80, 84, 90, 95)))"
   ]
  },
  {
   "cell_type": "code",
   "execution_count": 13,
   "id": "633e7dc4-f4f3-43a5-9046-a92572378047",
   "metadata": {},
   "outputs": [],
   "source": [
    "n_scalings = 5\n",
    "n_shifts = 5\n",
    "# scalings = np.linspace(0.1, 1., n_scalings)\n",
    "scalings = np.logspace(0., -1., n_scalings)\n",
    "scaling_corners = np.append(scalings - np.diff(scalings)[0]/2, scalings[-1] + np.diff(scalings)[0]/2)\n",
    "shifts = np.logspace(np.log10(2), np.log10(4.6), n_shifts)\n",
    "shift_corners = np.append(shifts - np.diff(shifts)[0]/2, shifts[-1] + np.diff(shifts)[0]/2)"
   ]
  },
  {
   "cell_type": "code",
   "execution_count": 14,
   "id": "b0ee1d79-210f-452f-9058-8504a77e0717",
   "metadata": {},
   "outputs": [
    {
     "data": {
      "text/html": [
       "<div><svg style=\"position: absolute; width: 0; height: 0; overflow: hidden\">\n",
       "<defs>\n",
       "<symbol id=\"icon-database\" viewBox=\"0 0 32 32\">\n",
       "<path d=\"M16 0c-8.837 0-16 2.239-16 5v4c0 2.761 7.163 5 16 5s16-2.239 16-5v-4c0-2.761-7.163-5-16-5z\"></path>\n",
       "<path d=\"M16 17c-8.837 0-16-2.239-16-5v6c0 2.761 7.163 5 16 5s16-2.239 16-5v-6c0 2.761-7.163 5-16 5z\"></path>\n",
       "<path d=\"M16 26c-8.837 0-16-2.239-16-5v6c0 2.761 7.163 5 16 5s16-2.239 16-5v-6c0 2.761-7.163 5-16 5z\"></path>\n",
       "</symbol>\n",
       "<symbol id=\"icon-file-text2\" viewBox=\"0 0 32 32\">\n",
       "<path d=\"M28.681 7.159c-0.694-0.947-1.662-2.053-2.724-3.116s-2.169-2.030-3.116-2.724c-1.612-1.182-2.393-1.319-2.841-1.319h-15.5c-1.378 0-2.5 1.121-2.5 2.5v27c0 1.378 1.122 2.5 2.5 2.5h23c1.378 0 2.5-1.122 2.5-2.5v-19.5c0-0.448-0.137-1.23-1.319-2.841zM24.543 5.457c0.959 0.959 1.712 1.825 2.268 2.543h-4.811v-4.811c0.718 0.556 1.584 1.309 2.543 2.268zM28 29.5c0 0.271-0.229 0.5-0.5 0.5h-23c-0.271 0-0.5-0.229-0.5-0.5v-27c0-0.271 0.229-0.5 0.5-0.5 0 0 15.499-0 15.5 0v7c0 0.552 0.448 1 1 1h7v19.5z\"></path>\n",
       "<path d=\"M23 26h-14c-0.552 0-1-0.448-1-1s0.448-1 1-1h14c0.552 0 1 0.448 1 1s-0.448 1-1 1z\"></path>\n",
       "<path d=\"M23 22h-14c-0.552 0-1-0.448-1-1s0.448-1 1-1h14c0.552 0 1 0.448 1 1s-0.448 1-1 1z\"></path>\n",
       "<path d=\"M23 18h-14c-0.552 0-1-0.448-1-1s0.448-1 1-1h14c0.552 0 1 0.448 1 1s-0.448 1-1 1z\"></path>\n",
       "</symbol>\n",
       "</defs>\n",
       "</svg>\n",
       "<style>/* CSS stylesheet for displaying xarray objects in jupyterlab.\n",
       " *\n",
       " */\n",
       "\n",
       ":root {\n",
       "  --xr-font-color0: var(--jp-content-font-color0, rgba(0, 0, 0, 1));\n",
       "  --xr-font-color2: var(--jp-content-font-color2, rgba(0, 0, 0, 0.54));\n",
       "  --xr-font-color3: var(--jp-content-font-color3, rgba(0, 0, 0, 0.38));\n",
       "  --xr-border-color: var(--jp-border-color2, #e0e0e0);\n",
       "  --xr-disabled-color: var(--jp-layout-color3, #bdbdbd);\n",
       "  --xr-background-color: var(--jp-layout-color0, white);\n",
       "  --xr-background-color-row-even: var(--jp-layout-color1, white);\n",
       "  --xr-background-color-row-odd: var(--jp-layout-color2, #eeeeee);\n",
       "}\n",
       "\n",
       "html[theme=dark],\n",
       "body.vscode-dark {\n",
       "  --xr-font-color0: rgba(255, 255, 255, 1);\n",
       "  --xr-font-color2: rgba(255, 255, 255, 0.54);\n",
       "  --xr-font-color3: rgba(255, 255, 255, 0.38);\n",
       "  --xr-border-color: #1F1F1F;\n",
       "  --xr-disabled-color: #515151;\n",
       "  --xr-background-color: #111111;\n",
       "  --xr-background-color-row-even: #111111;\n",
       "  --xr-background-color-row-odd: #313131;\n",
       "}\n",
       "\n",
       ".xr-wrap {\n",
       "  display: block;\n",
       "  min-width: 300px;\n",
       "  max-width: 700px;\n",
       "}\n",
       "\n",
       ".xr-text-repr-fallback {\n",
       "  /* fallback to plain text repr when CSS is not injected (untrusted notebook) */\n",
       "  display: none;\n",
       "}\n",
       "\n",
       ".xr-header {\n",
       "  padding-top: 6px;\n",
       "  padding-bottom: 6px;\n",
       "  margin-bottom: 4px;\n",
       "  border-bottom: solid 1px var(--xr-border-color);\n",
       "}\n",
       "\n",
       ".xr-header > div,\n",
       ".xr-header > ul {\n",
       "  display: inline;\n",
       "  margin-top: 0;\n",
       "  margin-bottom: 0;\n",
       "}\n",
       "\n",
       ".xr-obj-type,\n",
       ".xr-array-name {\n",
       "  margin-left: 2px;\n",
       "  margin-right: 10px;\n",
       "}\n",
       "\n",
       ".xr-obj-type {\n",
       "  color: var(--xr-font-color2);\n",
       "}\n",
       "\n",
       ".xr-sections {\n",
       "  padding-left: 0 !important;\n",
       "  display: grid;\n",
       "  grid-template-columns: 150px auto auto 1fr 20px 20px;\n",
       "}\n",
       "\n",
       ".xr-section-item {\n",
       "  display: contents;\n",
       "}\n",
       "\n",
       ".xr-section-item input {\n",
       "  display: none;\n",
       "}\n",
       "\n",
       ".xr-section-item input + label {\n",
       "  color: var(--xr-disabled-color);\n",
       "}\n",
       "\n",
       ".xr-section-item input:enabled + label {\n",
       "  cursor: pointer;\n",
       "  color: var(--xr-font-color2);\n",
       "}\n",
       "\n",
       ".xr-section-item input:enabled + label:hover {\n",
       "  color: var(--xr-font-color0);\n",
       "}\n",
       "\n",
       ".xr-section-summary {\n",
       "  grid-column: 1;\n",
       "  color: var(--xr-font-color2);\n",
       "  font-weight: 500;\n",
       "}\n",
       "\n",
       ".xr-section-summary > span {\n",
       "  display: inline-block;\n",
       "  padding-left: 0.5em;\n",
       "}\n",
       "\n",
       ".xr-section-summary-in:disabled + label {\n",
       "  color: var(--xr-font-color2);\n",
       "}\n",
       "\n",
       ".xr-section-summary-in + label:before {\n",
       "  display: inline-block;\n",
       "  content: '►';\n",
       "  font-size: 11px;\n",
       "  width: 15px;\n",
       "  text-align: center;\n",
       "}\n",
       "\n",
       ".xr-section-summary-in:disabled + label:before {\n",
       "  color: var(--xr-disabled-color);\n",
       "}\n",
       "\n",
       ".xr-section-summary-in:checked + label:before {\n",
       "  content: '▼';\n",
       "}\n",
       "\n",
       ".xr-section-summary-in:checked + label > span {\n",
       "  display: none;\n",
       "}\n",
       "\n",
       ".xr-section-summary,\n",
       ".xr-section-inline-details {\n",
       "  padding-top: 4px;\n",
       "  padding-bottom: 4px;\n",
       "}\n",
       "\n",
       ".xr-section-inline-details {\n",
       "  grid-column: 2 / -1;\n",
       "}\n",
       "\n",
       ".xr-section-details {\n",
       "  display: none;\n",
       "  grid-column: 1 / -1;\n",
       "  margin-bottom: 5px;\n",
       "}\n",
       "\n",
       ".xr-section-summary-in:checked ~ .xr-section-details {\n",
       "  display: contents;\n",
       "}\n",
       "\n",
       ".xr-array-wrap {\n",
       "  grid-column: 1 / -1;\n",
       "  display: grid;\n",
       "  grid-template-columns: 20px auto;\n",
       "}\n",
       "\n",
       ".xr-array-wrap > label {\n",
       "  grid-column: 1;\n",
       "  vertical-align: top;\n",
       "}\n",
       "\n",
       ".xr-preview {\n",
       "  color: var(--xr-font-color3);\n",
       "}\n",
       "\n",
       ".xr-array-preview,\n",
       ".xr-array-data {\n",
       "  padding: 0 5px !important;\n",
       "  grid-column: 2;\n",
       "}\n",
       "\n",
       ".xr-array-data,\n",
       ".xr-array-in:checked ~ .xr-array-preview {\n",
       "  display: none;\n",
       "}\n",
       "\n",
       ".xr-array-in:checked ~ .xr-array-data,\n",
       ".xr-array-preview {\n",
       "  display: inline-block;\n",
       "}\n",
       "\n",
       ".xr-dim-list {\n",
       "  display: inline-block !important;\n",
       "  list-style: none;\n",
       "  padding: 0 !important;\n",
       "  margin: 0;\n",
       "}\n",
       "\n",
       ".xr-dim-list li {\n",
       "  display: inline-block;\n",
       "  padding: 0;\n",
       "  margin: 0;\n",
       "}\n",
       "\n",
       ".xr-dim-list:before {\n",
       "  content: '(';\n",
       "}\n",
       "\n",
       ".xr-dim-list:after {\n",
       "  content: ')';\n",
       "}\n",
       "\n",
       ".xr-dim-list li:not(:last-child):after {\n",
       "  content: ',';\n",
       "  padding-right: 5px;\n",
       "}\n",
       "\n",
       ".xr-has-index {\n",
       "  font-weight: bold;\n",
       "}\n",
       "\n",
       ".xr-var-list,\n",
       ".xr-var-item {\n",
       "  display: contents;\n",
       "}\n",
       "\n",
       ".xr-var-item > div,\n",
       ".xr-var-item label,\n",
       ".xr-var-item > .xr-var-name span {\n",
       "  background-color: var(--xr-background-color-row-even);\n",
       "  margin-bottom: 0;\n",
       "}\n",
       "\n",
       ".xr-var-item > .xr-var-name:hover span {\n",
       "  padding-right: 5px;\n",
       "}\n",
       "\n",
       ".xr-var-list > li:nth-child(odd) > div,\n",
       ".xr-var-list > li:nth-child(odd) > label,\n",
       ".xr-var-list > li:nth-child(odd) > .xr-var-name span {\n",
       "  background-color: var(--xr-background-color-row-odd);\n",
       "}\n",
       "\n",
       ".xr-var-name {\n",
       "  grid-column: 1;\n",
       "}\n",
       "\n",
       ".xr-var-dims {\n",
       "  grid-column: 2;\n",
       "}\n",
       "\n",
       ".xr-var-dtype {\n",
       "  grid-column: 3;\n",
       "  text-align: right;\n",
       "  color: var(--xr-font-color2);\n",
       "}\n",
       "\n",
       ".xr-var-preview {\n",
       "  grid-column: 4;\n",
       "}\n",
       "\n",
       ".xr-var-name,\n",
       ".xr-var-dims,\n",
       ".xr-var-dtype,\n",
       ".xr-preview,\n",
       ".xr-attrs dt {\n",
       "  white-space: nowrap;\n",
       "  overflow: hidden;\n",
       "  text-overflow: ellipsis;\n",
       "  padding-right: 10px;\n",
       "}\n",
       "\n",
       ".xr-var-name:hover,\n",
       ".xr-var-dims:hover,\n",
       ".xr-var-dtype:hover,\n",
       ".xr-attrs dt:hover {\n",
       "  overflow: visible;\n",
       "  width: auto;\n",
       "  z-index: 1;\n",
       "}\n",
       "\n",
       ".xr-var-attrs,\n",
       ".xr-var-data {\n",
       "  display: none;\n",
       "  background-color: var(--xr-background-color) !important;\n",
       "  padding-bottom: 5px !important;\n",
       "}\n",
       "\n",
       ".xr-var-attrs-in:checked ~ .xr-var-attrs,\n",
       ".xr-var-data-in:checked ~ .xr-var-data {\n",
       "  display: block;\n",
       "}\n",
       "\n",
       ".xr-var-data > table {\n",
       "  float: right;\n",
       "}\n",
       "\n",
       ".xr-var-name span,\n",
       ".xr-var-data,\n",
       ".xr-attrs {\n",
       "  padding-left: 25px !important;\n",
       "}\n",
       "\n",
       ".xr-attrs,\n",
       ".xr-var-attrs,\n",
       ".xr-var-data {\n",
       "  grid-column: 1 / -1;\n",
       "}\n",
       "\n",
       "dl.xr-attrs {\n",
       "  padding: 0;\n",
       "  margin: 0;\n",
       "  display: grid;\n",
       "  grid-template-columns: 125px auto;\n",
       "}\n",
       "\n",
       ".xr-attrs dt,\n",
       ".xr-attrs dd {\n",
       "  padding: 0;\n",
       "  margin: 0;\n",
       "  float: left;\n",
       "  padding-right: 10px;\n",
       "  width: auto;\n",
       "}\n",
       "\n",
       ".xr-attrs dt {\n",
       "  font-weight: normal;\n",
       "  grid-column: 1;\n",
       "}\n",
       "\n",
       ".xr-attrs dt:hover span {\n",
       "  display: inline-block;\n",
       "  background: var(--xr-background-color);\n",
       "  padding-right: 10px;\n",
       "}\n",
       "\n",
       ".xr-attrs dd {\n",
       "  grid-column: 2;\n",
       "  white-space: pre-wrap;\n",
       "  word-break: break-all;\n",
       "}\n",
       "\n",
       ".xr-icon-database,\n",
       ".xr-icon-file-text2 {\n",
       "  display: inline-block;\n",
       "  vertical-align: middle;\n",
       "  width: 1em;\n",
       "  height: 1.5em !important;\n",
       "  stroke-width: 0;\n",
       "  stroke: currentColor;\n",
       "  fill: currentColor;\n",
       "}\n",
       "</style><pre class='xr-text-repr-fallback'>&lt;xarray.Dataset&gt;\n",
       "Dimensions:                                     (shifts: 5, scalings: 5, member: 3751, quantile: 1)\n",
       "Coordinates:\n",
       "  * shifts                                      (shifts) float64 2.0 ... 4.6\n",
       "  * scalings                                    (scalings) float64 1.0 ... 0.1\n",
       "  * member                                      (member) int64 0 1 ... 3749 3750\n",
       "  * quantile                                    (quantile) float64 0.95\n",
       "Data variables:\n",
       "    constraint                                  (shifts, scalings, member) bool ...\n",
       "    ECS                                         (member) float64 3.213 ... 2.482\n",
       "    Mean ECS                                    (shifts, scalings) float64 2....\n",
       "    ECS Uncertainty                             (shifts, scalings) float64 0....\n",
       "    Temperature change by 2050 (K)              (shifts, scalings) float64 1....\n",
       "    Temperature change by 2100 (K)              (shifts, scalings) float64 1....\n",
       "    Uncertainty in 2100 temperature change (K)  (quantile, shifts, scalings) float64 ...</pre><div class='xr-wrap' hidden><div class='xr-header'><div class='xr-obj-type'>xarray.Dataset</div></div><ul class='xr-sections'><li class='xr-section-item'><input id='section-0492bd35-598d-45b8-8fed-99573a33a447' class='xr-section-summary-in' type='checkbox' disabled ><label for='section-0492bd35-598d-45b8-8fed-99573a33a447' class='xr-section-summary'  title='Expand/collapse section'>Dimensions:</label><div class='xr-section-inline-details'><ul class='xr-dim-list'><li><span class='xr-has-index'>shifts</span>: 5</li><li><span class='xr-has-index'>scalings</span>: 5</li><li><span class='xr-has-index'>member</span>: 3751</li><li><span class='xr-has-index'>quantile</span>: 1</li></ul></div><div class='xr-section-details'></div></li><li class='xr-section-item'><input id='section-728f6535-af55-4663-a040-43cd9595252a' class='xr-section-summary-in' type='checkbox'  checked><label for='section-728f6535-af55-4663-a040-43cd9595252a' class='xr-section-summary' >Coordinates: <span>(4)</span></label><div class='xr-section-inline-details'></div><div class='xr-section-details'><ul class='xr-var-list'><li class='xr-var-item'><div class='xr-var-name'><span class='xr-has-index'>shifts</span></div><div class='xr-var-dims'>(shifts)</div><div class='xr-var-dtype'>float64</div><div class='xr-var-preview xr-preview'>2.0 2.463 3.033 3.735 4.6</div><input id='attrs-e0c4a2d1-5f92-4e5e-9e1a-c7f5ef3b70d2' class='xr-var-attrs-in' type='checkbox' disabled><label for='attrs-e0c4a2d1-5f92-4e5e-9e1a-c7f5ef3b70d2' title='Show/Hide attributes'><svg class='icon xr-icon-file-text2'><use xlink:href='#icon-file-text2'></use></svg></label><input id='data-e66cbe8b-3902-4c6a-a8a5-7cc80e709012' class='xr-var-data-in' type='checkbox'><label for='data-e66cbe8b-3902-4c6a-a8a5-7cc80e709012' title='Show/Hide data repr'><svg class='icon xr-icon-database'><use xlink:href='#icon-database'></use></svg></label><div class='xr-var-attrs'><dl class='xr-attrs'></dl></div><div class='xr-var-data'><pre>array([2.      , 2.462986, 3.03315 , 3.735303, 4.6     ])</pre></div></li><li class='xr-var-item'><div class='xr-var-name'><span class='xr-has-index'>scalings</span></div><div class='xr-var-dims'>(scalings)</div><div class='xr-var-dtype'>float64</div><div class='xr-var-preview xr-preview'>1.0 0.5623 0.3162 0.1778 0.1</div><input id='attrs-8007ba79-7de7-4e0b-905b-ac362ddec079' class='xr-var-attrs-in' type='checkbox' disabled><label for='attrs-8007ba79-7de7-4e0b-905b-ac362ddec079' title='Show/Hide attributes'><svg class='icon xr-icon-file-text2'><use xlink:href='#icon-file-text2'></use></svg></label><input id='data-2382b776-6ae5-4d18-8e38-3ffa27eba33c' class='xr-var-data-in' type='checkbox'><label for='data-2382b776-6ae5-4d18-8e38-3ffa27eba33c' title='Show/Hide data repr'><svg class='icon xr-icon-database'><use xlink:href='#icon-database'></use></svg></label><div class='xr-var-attrs'><dl class='xr-attrs'></dl></div><div class='xr-var-data'><pre>array([1.      , 0.562341, 0.316228, 0.177828, 0.1     ])</pre></div></li><li class='xr-var-item'><div class='xr-var-name'><span class='xr-has-index'>member</span></div><div class='xr-var-dims'>(member)</div><div class='xr-var-dtype'>int64</div><div class='xr-var-preview xr-preview'>0 1 2 3 4 ... 3747 3748 3749 3750</div><input id='attrs-d63c2b66-3432-4301-bfed-09097eb0cbd5' class='xr-var-attrs-in' type='checkbox' disabled><label for='attrs-d63c2b66-3432-4301-bfed-09097eb0cbd5' title='Show/Hide attributes'><svg class='icon xr-icon-file-text2'><use xlink:href='#icon-file-text2'></use></svg></label><input id='data-cbe384d6-e59a-44cc-8a2b-bc0b58ecb87f' class='xr-var-data-in' type='checkbox'><label for='data-cbe384d6-e59a-44cc-8a2b-bc0b58ecb87f' title='Show/Hide data repr'><svg class='icon xr-icon-database'><use xlink:href='#icon-database'></use></svg></label><div class='xr-var-attrs'><dl class='xr-attrs'></dl></div><div class='xr-var-data'><pre>array([   0,    1,    2, ..., 3748, 3749, 3750])</pre></div></li><li class='xr-var-item'><div class='xr-var-name'><span class='xr-has-index'>quantile</span></div><div class='xr-var-dims'>(quantile)</div><div class='xr-var-dtype'>float64</div><div class='xr-var-preview xr-preview'>0.95</div><input id='attrs-783489c6-97cc-4458-ae29-32674db82a3e' class='xr-var-attrs-in' type='checkbox' disabled><label for='attrs-783489c6-97cc-4458-ae29-32674db82a3e' title='Show/Hide attributes'><svg class='icon xr-icon-file-text2'><use xlink:href='#icon-file-text2'></use></svg></label><input id='data-9940fb80-f790-4562-bea7-78c239df4b56' class='xr-var-data-in' type='checkbox'><label for='data-9940fb80-f790-4562-bea7-78c239df4b56' title='Show/Hide data repr'><svg class='icon xr-icon-database'><use xlink:href='#icon-database'></use></svg></label><div class='xr-var-attrs'><dl class='xr-attrs'></dl></div><div class='xr-var-data'><pre>array([0.95])</pre></div></li></ul></div></li><li class='xr-section-item'><input id='section-630c289e-2c10-43ae-a381-c08f3d954aa1' class='xr-section-summary-in' type='checkbox'  checked><label for='section-630c289e-2c10-43ae-a381-c08f3d954aa1' class='xr-section-summary' >Data variables: <span>(7)</span></label><div class='xr-section-inline-details'></div><div class='xr-section-details'><ul class='xr-var-list'><li class='xr-var-item'><div class='xr-var-name'><span>constraint</span></div><div class='xr-var-dims'>(shifts, scalings, member)</div><div class='xr-var-dtype'>bool</div><div class='xr-var-preview xr-preview'>False True True ... False False</div><input id='attrs-6fa2bf5d-f2f2-4f50-b359-d4e7c1112227' class='xr-var-attrs-in' type='checkbox' disabled><label for='attrs-6fa2bf5d-f2f2-4f50-b359-d4e7c1112227' title='Show/Hide attributes'><svg class='icon xr-icon-file-text2'><use xlink:href='#icon-file-text2'></use></svg></label><input id='data-7d99f8d6-491c-487f-a78c-f8231c1d8229' class='xr-var-data-in' type='checkbox'><label for='data-7d99f8d6-491c-487f-a78c-f8231c1d8229' title='Show/Hide data repr'><svg class='icon xr-icon-database'><use xlink:href='#icon-database'></use></svg></label><div class='xr-var-attrs'><dl class='xr-attrs'></dl></div><div class='xr-var-data'><pre>array([[[False,  True,  True, ...,  True,  True,  True],\n",
       "        [ True,  True,  True, ...,  True,  True,  True],\n",
       "        [False,  True,  True, ...,  True,  True,  True],\n",
       "        [False,  True,  True, ...,  True,  True, False],\n",
       "        [False,  True,  True, ..., False,  True, False]],\n",
       "\n",
       "       [[ True,  True,  True, ...,  True,  True,  True],\n",
       "        [ True,  True,  True, ...,  True,  True,  True],\n",
       "        [ True, False,  True, ...,  True,  True,  True],\n",
       "        [False,  True,  True, ...,  True,  True,  True],\n",
       "        [False, False, False, ...,  True, False,  True]],\n",
       "\n",
       "       [[ True,  True,  True, ...,  True,  True,  True],\n",
       "        [ True, False,  True, ...,  True,  True,  True],\n",
       "        [ True, False,  True, ...,  True,  True,  True],\n",
       "        [ True, False, False, ...,  True,  True, False],\n",
       "        [ True, False, False, ..., False, False,  True]],\n",
       "\n",
       "       [[ True,  True,  True, ..., False,  True,  True],\n",
       "        [ True,  True,  True, ...,  True, False,  True],\n",
       "        [ True, False,  True, ..., False, False,  True],\n",
       "        [ True, False, False, ...,  True, False,  True],\n",
       "        [False, False, False, ..., False, False, False]],\n",
       "\n",
       "       [[ True,  True, False, ...,  True,  True,  True],\n",
       "        [ True, False,  True, ..., False,  True,  True],\n",
       "        [ True, False, False, ..., False, False, False],\n",
       "        [ True, False, False, ..., False, False, False],\n",
       "        [False, False, False, ..., False, False, False]]])</pre></div></li><li class='xr-var-item'><div class='xr-var-name'><span>ECS</span></div><div class='xr-var-dims'>(member)</div><div class='xr-var-dtype'>float64</div><div class='xr-var-preview xr-preview'>3.213 2.115 2.134 ... 2.113 2.482</div><input id='attrs-dd8910af-f52d-4bb4-b92b-a272aa27e690' class='xr-var-attrs-in' type='checkbox' disabled><label for='attrs-dd8910af-f52d-4bb4-b92b-a272aa27e690' title='Show/Hide attributes'><svg class='icon xr-icon-file-text2'><use xlink:href='#icon-file-text2'></use></svg></label><input id='data-5d36f19c-84f6-44f3-bb98-36f5be0e80ab' class='xr-var-data-in' type='checkbox'><label for='data-5d36f19c-84f6-44f3-bb98-36f5be0e80ab' title='Show/Hide data repr'><svg class='icon xr-icon-database'><use xlink:href='#icon-database'></use></svg></label><div class='xr-var-attrs'><dl class='xr-attrs'></dl></div><div class='xr-var-data'><pre>array([3.21260715, 2.11534868, 2.13367855, ..., 2.38211563, 2.11333564,\n",
       "       2.48187444])</pre></div></li><li class='xr-var-item'><div class='xr-var-name'><span>Mean ECS</span></div><div class='xr-var-dims'>(shifts, scalings)</div><div class='xr-var-dtype'>float64</div><div class='xr-var-preview xr-preview'>2.917 2.711 2.481 ... 3.939 4.334</div><input id='attrs-76ddd19f-33ea-4412-8f59-c93c08ab3549' class='xr-var-attrs-in' type='checkbox' disabled><label for='attrs-76ddd19f-33ea-4412-8f59-c93c08ab3549' title='Show/Hide attributes'><svg class='icon xr-icon-file-text2'><use xlink:href='#icon-file-text2'></use></svg></label><input id='data-dabe6eda-8ab0-4971-859b-89e918e0b236' class='xr-var-data-in' type='checkbox'><label for='data-dabe6eda-8ab0-4971-859b-89e918e0b236' title='Show/Hide data repr'><svg class='icon xr-icon-database'><use xlink:href='#icon-database'></use></svg></label><div class='xr-var-attrs'><dl class='xr-attrs'></dl></div><div class='xr-var-data'><pre>array([[2.91677754, 2.71076976, 2.48066611, 2.26505896, 2.1203172 ],\n",
       "       [3.02457053, 2.86831252, 2.71617086, 2.57533353, 2.49807301],\n",
       "       [3.09417316, 3.03228115, 2.96083305, 2.94272654, 2.98704667],\n",
       "       [3.16462582, 3.15258993, 3.21590624, 3.37174797, 3.58248705],\n",
       "       [3.20599478, 3.24357579, 3.4742817 , 3.93907607, 4.33381649]])</pre></div></li><li class='xr-var-item'><div class='xr-var-name'><span>ECS Uncertainty</span></div><div class='xr-var-dims'>(shifts, scalings)</div><div class='xr-var-dtype'>float64</div><div class='xr-var-preview xr-preview'>0.6896 0.5194 ... 0.756 0.4705</div><input id='attrs-09526a54-174c-49ec-8231-7b5023e9240b' class='xr-var-attrs-in' type='checkbox' disabled><label for='attrs-09526a54-174c-49ec-8231-7b5023e9240b' title='Show/Hide attributes'><svg class='icon xr-icon-file-text2'><use xlink:href='#icon-file-text2'></use></svg></label><input id='data-805fe3c0-14eb-4a7e-bab2-ffa53683589a' class='xr-var-data-in' type='checkbox'><label for='data-805fe3c0-14eb-4a7e-bab2-ffa53683589a' title='Show/Hide data repr'><svg class='icon xr-icon-database'><use xlink:href='#icon-database'></use></svg></label><div class='xr-var-attrs'><dl class='xr-attrs'></dl></div><div class='xr-var-data'><pre>array([[0.68960897, 0.51943103, 0.37804273, 0.25717299, 0.17694775],\n",
       "       [0.79236881, 0.61173601, 0.47303584, 0.33634778, 0.21719163],\n",
       "       [0.83907759, 0.74397962, 0.57640321, 0.43354452, 0.28105012],\n",
       "       [0.93651727, 0.82823015, 0.73393743, 0.55684047, 0.34915016],\n",
       "       [1.00882008, 0.92173346, 0.90193335, 0.75598708, 0.47050434]])</pre></div></li><li class='xr-var-item'><div class='xr-var-name'><span>Temperature change by 2050 (K)</span></div><div class='xr-var-dims'>(shifts, scalings)</div><div class='xr-var-dtype'>float64</div><div class='xr-var-preview xr-preview'>1.628 1.582 1.512 ... 1.887 1.977</div><input id='attrs-bb8f1f6c-35b8-48ad-93bb-13d037669f06' class='xr-var-attrs-in' type='checkbox' disabled><label for='attrs-bb8f1f6c-35b8-48ad-93bb-13d037669f06' title='Show/Hide attributes'><svg class='icon xr-icon-file-text2'><use xlink:href='#icon-file-text2'></use></svg></label><input id='data-4f666877-c910-429f-be12-328d855ea823' class='xr-var-data-in' type='checkbox'><label for='data-4f666877-c910-429f-be12-328d855ea823' title='Show/Hide data repr'><svg class='icon xr-icon-database'><use xlink:href='#icon-database'></use></svg></label><div class='xr-var-attrs'><dl class='xr-attrs'></dl></div><div class='xr-var-data'><pre>array([[1.6284 , 1.58195, 1.5125 , 1.4456 , 1.3795 ],\n",
       "       [1.6546 , 1.6252 , 1.587  , 1.55255, 1.5321 ],\n",
       "       [1.66805, 1.6631 , 1.662  , 1.6732 , 1.6949 ],\n",
       "       [1.6767 , 1.6885 , 1.7202 , 1.7744 , 1.8472 ],\n",
       "       [1.6812 , 1.69975, 1.7728 , 1.8869 , 1.9771 ]])</pre></div></li><li class='xr-var-item'><div class='xr-var-name'><span>Temperature change by 2100 (K)</span></div><div class='xr-var-dims'>(shifts, scalings)</div><div class='xr-var-dtype'>float64</div><div class='xr-var-preview xr-preview'>1.554 1.501 1.415 ... 1.901 2.029</div><input id='attrs-feea781f-cf8b-448f-9c21-b02dbe98c89f' class='xr-var-attrs-in' type='checkbox' disabled><label for='attrs-feea781f-cf8b-448f-9c21-b02dbe98c89f' title='Show/Hide attributes'><svg class='icon xr-icon-file-text2'><use xlink:href='#icon-file-text2'></use></svg></label><input id='data-d11aa2da-a1c2-47e9-a788-6af89750b812' class='xr-var-data-in' type='checkbox'><label for='data-d11aa2da-a1c2-47e9-a788-6af89750b812' title='Show/Hide data repr'><svg class='icon xr-icon-database'><use xlink:href='#icon-database'></use></svg></label><div class='xr-var-attrs'><dl class='xr-attrs'></dl></div><div class='xr-var-data'><pre>array([[1.554  , 1.5011 , 1.4147 , 1.3375 , 1.274  ],\n",
       "       [1.584  , 1.5481 , 1.5099 , 1.4634 , 1.43545],\n",
       "       [1.6084 , 1.5972 , 1.5939 , 1.6126 , 1.6365 ],\n",
       "       [1.62015, 1.6309 , 1.6742 , 1.7462 , 1.83215],\n",
       "       [1.6262 , 1.6531 , 1.7483 , 1.90135, 2.0292 ]])</pre></div></li><li class='xr-var-item'><div class='xr-var-name'><span>Uncertainty in 2100 temperature change (K)</span></div><div class='xr-var-dims'>(quantile, shifts, scalings)</div><div class='xr-var-dtype'>float64</div><div class='xr-var-preview xr-preview'>1.008 0.8672 0.7264 ... 1.09 1.065</div><input id='attrs-30cee6e7-255e-4e4d-b1e2-40b4a0105fdc' class='xr-var-attrs-in' type='checkbox' disabled><label for='attrs-30cee6e7-255e-4e4d-b1e2-40b4a0105fdc' title='Show/Hide attributes'><svg class='icon xr-icon-file-text2'><use xlink:href='#icon-file-text2'></use></svg></label><input id='data-c7b98403-8aed-4006-a4df-643f668a429f' class='xr-var-data-in' type='checkbox'><label for='data-c7b98403-8aed-4006-a4df-643f668a429f' title='Show/Hide data repr'><svg class='icon xr-icon-database'><use xlink:href='#icon-database'></use></svg></label><div class='xr-var-attrs'><dl class='xr-attrs'></dl></div><div class='xr-var-data'><pre>array([[[1.0077  , 0.86723 , 0.72645 , 0.59958 , 0.50321 ],\n",
       "        [1.05046 , 0.966   , 0.83917 , 0.706385, 0.592455],\n",
       "        [1.07945 , 1.0344  , 0.947225, 0.807785, 0.699475],\n",
       "        [1.118065, 1.09358 , 1.04004 , 0.92938 , 0.84234 ],\n",
       "        [1.12692 , 1.12505 , 1.13299 , 1.089685, 1.06512 ]]])</pre></div></li></ul></div></li><li class='xr-section-item'><input id='section-55c78a39-eeb4-44bf-b61a-5932b42b6f24' class='xr-section-summary-in' type='checkbox' disabled ><label for='section-55c78a39-eeb4-44bf-b61a-5932b42b6f24' class='xr-section-summary'  title='Expand/collapse section'>Attributes: <span>(0)</span></label><div class='xr-section-inline-details'></div><div class='xr-section-details'><dl class='xr-attrs'></dl></div></li></ul></div></div>"
      ],
      "text/plain": [
       "<xarray.Dataset>\n",
       "Dimensions:                                     (shifts: 5, scalings: 5, member: 3751, quantile: 1)\n",
       "Coordinates:\n",
       "  * shifts                                      (shifts) float64 2.0 ... 4.6\n",
       "  * scalings                                    (scalings) float64 1.0 ... 0.1\n",
       "  * member                                      (member) int64 0 1 ... 3749 3750\n",
       "  * quantile                                    (quantile) float64 0.95\n",
       "Data variables:\n",
       "    constraint                                  (shifts, scalings, member) bool ...\n",
       "    ECS                                         (member) float64 3.213 ... 2.482\n",
       "    Mean ECS                                    (shifts, scalings) float64 2....\n",
       "    ECS Uncertainty                             (shifts, scalings) float64 0....\n",
       "    Temperature change by 2050 (K)              (shifts, scalings) float64 1....\n",
       "    Temperature change by 2100 (K)              (shifts, scalings) float64 1....\n",
       "    Uncertainty in 2100 temperature change (K)  (quantile, shifts, scalings) float64 ..."
      ]
     },
     "execution_count": 14,
     "metadata": {},
     "output_type": "execute_result"
    }
   ],
   "source": [
    "from itertools import product\n",
    "\n",
    "def _is_valid(shift_scale):\n",
    "    shift, scale = shift_scale\n",
    "    # Do a relative change in scale for ECS\n",
    "    ecs_dist = st.norm(loc=shift, scale=scale*shift)\n",
    "    return np.random.uniform(0., ecs_dist.pdf(ecs).max(), size=ecs.shape)<=ecs_dist.pdf(ecs)\n",
    "\n",
    "res = np.asarray([x for x in map(_is_valid, product(shifts, scalings))])\n",
    "\n",
    "ecs_constraint = xr.DataArray(data=res.reshape(n_shifts, n_scalings, -1),\n",
    "                              coords=[('shifts', shifts), ('scalings', scalings), ('member', np.arange(n_ens))])\n",
    "ecs_da = xr.DataArray(ecs, coords=[('member', np.arange(n_ens))])\n",
    "t_2050_da = xr.DataArray(df_in['temperature'].loc[2050.5, :], coords=[('member', np.arange(n_ens))])\n",
    "t_2100_da = xr.DataArray(df_in['temperature'].loc[2100.5, :], coords=[('member', np.arange(n_ens))])\n",
    "\n",
    "ds = xr.Dataset({'constraint': ecs_constraint, 'ECS': ecs_da, \n",
    "                'Mean ECS':ecs_da.where(ecs_constraint).mean('member'),\n",
    "                'ECS Uncertainty':ecs_da.where(ecs_constraint).std('member'),\n",
    "                 'Temperature change by 2050 (K)':t_2050_da.where(ecs_constraint).median('member'),\n",
    "                 'Temperature change by 2100 (K)':t_2100_da.where(ecs_constraint).median('member'),\n",
    "                'Uncertainty in 2100 temperature change (K)':t_2100_da.where(ecs_constraint).quantile([0.05, 0.95], 'member').diff('quantile')})\n",
    "ds\n"
   ]
  },
  {
   "cell_type": "code",
   "execution_count": 15,
   "id": "1cc986ae-4243-4a6d-92a5-d9687a6980c2",
   "metadata": {},
   "outputs": [
    {
     "data": {
      "text/plain": [
       "<matplotlib.collections.QuadMesh at 0x7fbeacccf410>"
      ]
     },
     "execution_count": 15,
     "metadata": {},
     "output_type": "execute_result"
    },
    {
     "data": {
      "image/png": "[encoded data removed]",
      "text/plain": [
       "<Figure size 432x288 with 2 Axes>"
      ]
     },
     "metadata": {
      "needs_background": "light"
     },
     "output_type": "display_data"
    }
   ],
   "source": [
    "ds.constraint.sum(\"member\").plot(cbar_kwargs=dict(label='Constrained samples'))"
   ]
  },
  {
   "cell_type": "code",
   "execution_count": 16,
   "id": "1993c823-9d0d-4f99-9b46-d9079e421da4",
   "metadata": {},
   "outputs": [
    {
     "data": {
      "text/plain": [
       "[Text(0, 0.5, 'ECS Uncertainty (K)'), Text(0.5, 0, 'Mean ECS (K)')]"
      ]
     },
     "execution_count": 16,
     "metadata": {},
     "output_type": "execute_result"
    },
    {
     "data": {
      "image/png": "[encoded data removed]",
      "text/plain": [
       "<Figure size 432x288 with 2 Axes>"
      ]
     },
     "metadata": {
      "needs_background": "light"
     },
     "output_type": "display_data"
    }
   ],
   "source": [
    "ds.plot.scatter('Mean ECS', 'ECS Uncertainty', hue='Uncertainty in 2100 temperature change (K)')\n",
    "pl.setp(pl.gca(), xlabel='Mean ECS (K)', ylabel='ECS Uncertainty (K)')"
   ]
  },
  {
   "cell_type": "code",
   "execution_count": 17,
   "id": "523c7552-acc2-45e9-89ba-5f1d8816ebd5",
   "metadata": {},
   "outputs": [
    {
     "data": {
      "text/plain": [
       "<matplotlib.collections.PathCollection at 0x7fbead208e90>"
      ]
     },
     "execution_count": 17,
     "metadata": {},
     "output_type": "execute_result"
    },
    {
     "data": {
      "image/png": "[encoded data removed]",
      "text/plain": [
       "<Figure size 432x288 with 2 Axes>"
      ]
     },
     "metadata": {
      "needs_background": "light"
     },
     "output_type": "display_data"
    }
   ],
   "source": [
    "ds.plot.scatter('Mean ECS', 'ECS Uncertainty', hue='Temperature change by 2100 (K)')"
   ]
  },
  {
   "cell_type": "markdown",
   "id": "46689bc4-7a82-452f-b279-56656a273f8d",
   "metadata": {},
   "source": [
    "## Direct comparison"
   ]
  },
  {
   "cell_type": "code",
   "execution_count": 18,
   "id": "5f884513-21ad-457e-8ae0-46a690ca4ae9",
   "metadata": {},
   "outputs": [
    {
     "data": {
      "text/plain": [
       "<matplotlib.collections.PathCollection at 0x7fbead2bccd0>"
      ]
     },
     "execution_count": 18,
     "metadata": {},
     "output_type": "execute_result"
    },
    {
     "data": {
      "image/png": "[encoded data removed]",
      "text/plain": [
       "<Figure size 432x288 with 4 Axes>"
      ]
     },
     "metadata": {
      "needs_background": "light"
     },
     "output_type": "display_data"
    }
   ],
   "source": [
    "# This is OK but has a lot going on\n",
    "ds.plot.scatter('ECS Uncertainty', 'Uncertainty in 2100 temperature change (K)', hue='Mean ECS', marker='x')\n",
    "ax2 = pl.gca().twiny()\n",
    "erf_ds.plot.scatter('ERF Uncertainty', 'Uncertainty in 2100 temperature change (K)', hue='Mean ERF', cmap='viridis_r')\n",
    "# The fact that the ECS points are more densely sampled along the diagonal is due to the relative sampling \n",
    "#  we did (less sampling in the bottom right of the figure above as compared to the ERF)"
   ]
  },
  {
   "cell_type": "code",
   "execution_count": 19,
   "id": "2ca841b7-9d2c-43b5-8adb-4a1cc6b2e93f",
   "metadata": {},
   "outputs": [
    {
     "data": {
      "text/plain": [
       "<matplotlib.legend.Legend at 0x7fbead285dd0>"
      ]
     },
     "execution_count": 19,
     "metadata": {},
     "output_type": "execute_result"
    },
    {
     "data": {
      "image/png": "[encoded data removed]",
      "text/plain": [
       "<Figure size 432x288 with 1 Axes>"
      ]
     },
     "metadata": {
      "needs_background": "light"
     },
     "output_type": "display_data"
    }
   ],
   "source": [
    "# Plot the average reduction in uncertainty across the different unrelying true values\n",
    "pl.scatter(ds.scalings, ds['Uncertainty in 2100 temperature change (K)'].squeeze().median('shifts'), label='ECS uncertainty')\n",
    "pl.scatter(erf_ds.scalings, erf_ds['Uncertainty in 2100 temperature change (K)'].squeeze().median('shifts'), label='ERF uncertainty')\n",
    "# pl.scatter(erf_ds.scalings, erf_ds['Uncertainty in 2100 temperature change (K)'].isel(shifts=3), label='ERF uncertainty')\n",
    "pl.setp(pl.gca(), xlabel='Relative uncertainty', ylabel='Uncertainty in 2100 temperature change (K)')\n",
    "pl.legend()"
   ]
  },
  {
   "cell_type": "code",
   "execution_count": 20,
   "id": "b11cb9eb-ea95-4d63-a598-ddce8d9661ce",
   "metadata": {},
   "outputs": [
    {
     "data": {
      "text/plain": [
       "<matplotlib.legend.Legend at 0x7fbead73ca10>"
      ]
     },
     "execution_count": 20,
     "metadata": {},
     "output_type": "execute_result"
    },
    {
     "data": {
      "image/png": "[encoded data removed]",
      "text/plain": [
       "<Figure size 432x288 with 1 Axes>"
      ]
     },
     "metadata": {
      "needs_background": "light"
     },
     "output_type": "display_data"
    }
   ],
   "source": [
    "# Plot a selection of uncertainty reductions across the different unrelying true values\n",
    "pl.scatter(ds.scalings, ds['Uncertainty in 2100 temperature change (K)'].isel(shifts=0), label=f\"ECS uncertainty (low ECS)\", marker='^', c='tab:blue')\n",
    "pl.scatter(erf_ds.scalings, erf_ds['Uncertainty in 2100 temperature change (K)'].isel(shifts=4), label='ERF uncertainty (weak ERF)', marker='^', c='tab:orange')\n",
    "\n",
    "pl.scatter(ds.scalings, ds['Uncertainty in 2100 temperature change (K)'].isel(shifts=2), label=f\"ECS uncertainty (mid ECS)\", marker='o', c='tab:blue')\n",
    "pl.scatter(erf_ds.scalings, erf_ds['Uncertainty in 2100 temperature change (K)'].isel(shifts=2), label='ERF uncertainty (mid ERF)', marker='o', c='tab:orange')\n",
    "\n",
    "pl.scatter(ds.scalings, ds['Uncertainty in 2100 temperature change (K)'].isel(shifts=4), label=f\"ECS uncertainty (high ECS)\", marker='x', c='tab:blue')\n",
    "pl.scatter(erf_ds.scalings, erf_ds['Uncertainty in 2100 temperature change (K)'].isel(shifts=0), label='ERF uncertainty (strong ERF)', marker='x', c='tab:orange')\n",
    "\n",
    "pl.setp(pl.gca(), xlabel='Relative uncertainty', ylabel='Uncertainty in 2100 temperature change (K)')\n",
    "pl.legend()"
   ]
  },
  {
   "cell_type": "markdown",
   "id": "83f76d1d",
   "metadata": {},
   "source": [
    "## Make output data"
   ]
  },
  {
   "cell_type": "code",
   "execution_count": 21,
   "id": "f65d8d19",
   "metadata": {},
   "outputs": [],
   "source": [
    "mkdir_p('../data_output/')"
   ]
  },
  {
   "cell_type": "code",
   "execution_count": 22,
   "id": "7210184b",
   "metadata": {},
   "outputs": [],
   "source": [
    "erf_ds.to_netcdf('../data_output/erf_constraints.nc')"
   ]
  },
  {
   "cell_type": "code",
   "execution_count": 23,
   "id": "6c664a0c",
   "metadata": {},
   "outputs": [],
   "source": [
    "ds.to_netcdf('../data_output/ecs_constraints.nc')"
   ]
  },
  {
   "cell_type": "code",
   "execution_count": null,
   "id": "7f4e3e52",
   "metadata": {},
   "outputs": [],
   "source": []
  }
 ],
 "metadata": {
  "kernelspec": {
   "display_name": "Python [conda env:ar6-wg1-ch7]",
   "language": "python",
   "name": "conda-env-ar6-wg1-ch7-py"
  },
  "language_info": {
   "codemirror_mode": {
    "name": "ipython",
    "version": 3
   },
   "file_extension": ".py",
   "mimetype": "text/x-python",
   "name": "python",
   "nbconvert_exporter": "python",
   "pygments_lexer": "ipython3",
   "version": "3.7.12"
  }
 },
 "nbformat": 4,
 "nbformat_minor": 5
}
