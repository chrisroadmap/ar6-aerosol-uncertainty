{
 "cells": [
  {
   "cell_type": "markdown",
   "id": "3bd1fb58",
   "metadata": {},
   "source": [
    "# Dataset download\n",
    "\n",
    "This will download the RCMIP emissions dataset."
   ]
  },
  {
   "cell_type": "code",
   "execution_count": 1,
   "id": "22079d84",
   "metadata": {},
   "outputs": [],
   "source": [
    "from climateforcing.utils import mkdir_p, check_and_download"
   ]
  },
  {
   "cell_type": "code",
   "execution_count": 2,
   "id": "9617d4f0",
   "metadata": {},
   "outputs": [],
   "source": [
    "mkdir_p('../data_input/rcmip/')"
   ]
  },
  {
   "cell_type": "code",
   "execution_count": 3,
   "id": "198488d7",
   "metadata": {},
   "outputs": [],
   "source": [
    "check_and_download(\n",
    "    url='https://zenodo.org/record/4589756/files/rcmip-emissions-annual-means-v5-1-0.csv',\n",
    "    filepath='../data_input/rcmip/'\n",
    ")"
   ]
  }
 ],
 "metadata": {
  "kernelspec": {
   "display_name": "Python 3 (ipykernel)",
   "language": "python",
   "name": "python3"
  },
  "language_info": {
   "codemirror_mode": {
    "name": "ipython",
    "version": 3
   },
   "file_extension": ".py",
   "mimetype": "text/x-python",
   "name": "python",
   "nbconvert_exporter": "python",
   "pygments_lexer": "ipython3",
   "version": "3.10.2"
  }
 },
 "nbformat": 4,
 "nbformat_minor": 5
}
