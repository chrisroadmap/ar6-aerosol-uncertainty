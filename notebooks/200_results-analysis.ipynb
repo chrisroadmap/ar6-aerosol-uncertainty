{
 "cells": [
  {
   "cell_type": "code",
   "execution_count": null,
   "id": "ce4d5a37",
   "metadata": {},
   "outputs": [],
   "source": [
    "import json\n",
    "\n",
    "from climateforcing.utils import mkdir_p\n",
    "import fair\n",
    "import matplotlib.pyplot as pl\n",
    "import numpy as np\n",
    "import pandas as pd\n",
    "import scipy.stats as st"
   ]
  },
  {
   "cell_type": "markdown",
   "id": "6592dba0",
   "metadata": {},
   "source": [
    "## Set up plotting styles"
   ]
  },
  {
   "cell_type": "code",
   "execution_count": null,
   "id": "bdeb9abe",
   "metadata": {},
   "outputs": [],
   "source": [
    "pl.rcParams['figure.figsize'] = (12/2.54, 9/2.54)\n",
    "pl.rcParams['font.size'] = 12\n",
    "pl.rcParams['font.family'] = 'Arial'\n",
    "pl.rcParams['xtick.direction'] = 'out'\n",
    "pl.rcParams['ytick.direction'] = 'out'\n",
    "pl.rcParams['xtick.minor.visible'] = True\n",
    "pl.rcParams['ytick.major.left'] = True\n",
    "pl.rcParams['ytick.major.right'] = True\n",
    "pl.rcParams['ytick.minor.visible'] = True\n",
    "pl.rcParams['xtick.top'] = True\n",
    "pl.rcParams['ytick.right'] = True"
   ]
  },
  {
   "cell_type": "markdown",
   "id": "f612a057",
   "metadata": {},
   "source": [
    "## Load up saved output"
   ]
  },
  {
   "cell_type": "code",
   "execution_count": null,
   "id": "45bc9848",
   "metadata": {},
   "outputs": [],
   "source": [
    "df_in = {}\n",
    "for var in ['temperature', 'ERFaer']:\n",
    "    df_in[var] = pd.read_csv('../data_output/fair_{}/ssp126.csv'.format(var), index_col='year')"
   ]
  },
  {
   "cell_type": "code",
   "execution_count": null,
   "id": "c6bdb8b6",
   "metadata": {},
   "outputs": [],
   "source": [
    "df_in['temperature']"
   ]
  },
  {
   "cell_type": "code",
   "execution_count": null,
   "id": "b2255179",
   "metadata": {},
   "outputs": [],
   "source": [
    "hadcrut5_df = pd.read_csv('../data_input/gsat/HadCRUT.5.0.1.0.analysis.summary_series.global.annual.csv')"
   ]
  },
  {
   "cell_type": "code",
   "execution_count": null,
   "id": "2ea6c8fd",
   "metadata": {},
   "outputs": [],
   "source": [
    "mkdir_p('../plots/')"
   ]
  },
  {
   "cell_type": "code",
   "execution_count": null,
   "id": "6cb78a61",
   "metadata": {},
   "outputs": [],
   "source": [
    "n_ens = df_in['temperature'].shape[1]\n",
    "n_ens"
   ]
  },
  {
   "cell_type": "code",
   "execution_count": null,
   "id": "05ae0576",
   "metadata": {},
   "outputs": [],
   "source": [
    "fig,ax=pl.subplots()\n",
    "ax.plot(np.arange(1750.5,2101), np.median(df_in['temperature'], axis=1), color='k', label='FaIR ensemble median')\n",
    "ax.fill_between(np.arange(1750.5,2101), np.percentile(df_in['temperature'], 5, axis=1), np.percentile(df_in['temperature'], 95, axis=1), label='FaIR 5-95% range', color=\"0.7\")\n",
    "ax.plot(np.arange(1850.5,2022), hadcrut5_df.loc[:171,'Anomaly (deg C)']-hadcrut5_df.loc[0:50,'Anomaly (deg C)'].mean(), color='r', label='HadCRUT5')\n",
    "ax.set_xlim(1950,2100)\n",
    "ax.set_ylim(0,2.5)\n",
    "ax.axhline(1.5, ls=':', color='k')\n",
    "ax.set_title('SSP1-2.6')\n",
    "ax.legend(loc='lower right')\n",
    "ax.set_ylabel('Temperature relative to 1850-1900, °C')\n",
    "pl.figtext(1,0.02,'@chrisroadmap',ha='right', color='0.6')\n",
    "pl.figtext(0,0.02,f'{n_ens} ensemble members, FaIRv{fair.__version__}')\n",
    "#ax.text(0.99,0.01,'FaIRv1.6.2 2237 constrained ensemble members', transform=ax.transAxes, ha='right')\n",
    "#ax.text(0.99,)\n",
    "fig.tight_layout(rect=[0.0,0.05,1,1])\n",
    "fig.patch.set_facecolor('white')\n",
    "pl.savefig('../plots/ssp126-default.png')"
   ]
  },
  {
   "cell_type": "markdown",
   "id": "6551c7cb",
   "metadata": {},
   "source": [
    "## Characterise by aerosol forcing"
   ]
  },
  {
   "cell_type": "code",
   "execution_count": null,
   "id": "bd25866e",
   "metadata": {},
   "outputs": [],
   "source": [
    "df_in['ERFaer'].loc[2005.5:2014.5].mean(axis=0)"
   ]
  },
  {
   "cell_type": "code",
   "execution_count": null,
   "id": "2f36ab75",
   "metadata": {},
   "outputs": [],
   "source": [
    "np.percentile(df_in['ERFaer'].loc[2005.5:2014.5].mean(axis=0), (5, 10, 50, 90, 95))"
   ]
  },
  {
   "cell_type": "code",
   "execution_count": null,
   "id": "7f219504",
   "metadata": {},
   "outputs": [],
   "source": [
    "print(np.mean(df_in['ERFaer'].loc[2005.5:2014.5].mean(axis=0)))\n",
    "print(np.std(df_in['ERFaer'].loc[2005.5:2014.5].mean(axis=0)))"
   ]
  },
  {
   "cell_type": "code",
   "execution_count": null,
   "id": "62284cc5",
   "metadata": {},
   "outputs": [],
   "source": [
    "accept_prob = st.uniform.rvs(loc=0, scale=1, size=n_ens, random_state=7324789)\n",
    "aer_strong = np.zeros(n_ens, dtype=bool)\n",
    "for i in range(n_ens):\n",
    "    likelihood = st.norm.pdf(df_in['ERFaer'].loc[2005.5:2014.5,str(i)].mean(axis=0), loc=-1.53, scale=0.10)/st.norm.pdf(-1.53, loc=-1.53, scale=0.10)\n",
    "    if likelihood>=accept_prob[i]:\n",
    "        aer_strong[i] = True\n",
    "    #print(likelihood)\n",
    "np.sum(aer_strong)"
   ]
  },
  {
   "cell_type": "code",
   "execution_count": null,
   "id": "50bed5f3",
   "metadata": {},
   "outputs": [],
   "source": [
    "pl.hist(df_in['ERFaer'].loc[2005.5:2014.5,aer_strong].mean(axis=0))"
   ]
  },
  {
   "cell_type": "code",
   "execution_count": null,
   "id": "be2d71e0",
   "metadata": {},
   "outputs": [],
   "source": [
    "df_in['ERFaer'].loc[2005.5:2014.5,aer_strong].mean().mean()"
   ]
  },
  {
   "cell_type": "code",
   "execution_count": null,
   "id": "677c0ceb",
   "metadata": {},
   "outputs": [],
   "source": [
    "df_in['ERFaer'].loc[2005.5:2014.5,aer_strong].mean().std()"
   ]
  },
  {
   "cell_type": "code",
   "execution_count": null,
   "id": "d67ff8a7",
   "metadata": {},
   "outputs": [],
   "source": [
    "accept_prob = st.uniform.rvs(loc=0, scale=1, size=n_ens, random_state=83713790)\n",
    "aer_weak = np.zeros(n_ens, dtype=bool)\n",
    "for i in range(n_ens):\n",
    "    likelihood = st.norm.pdf(df_in['ERFaer'].loc[2005.5:2014.5,str(i)].mean(axis=0), loc=-0.44, scale=0.11)/st.norm.pdf(-0.44, loc=-0.44, scale=0.11)\n",
    "    if likelihood>=accept_prob[i]:\n",
    "        aer_weak[i] = True\n",
    "    #print(likelihood)\n",
    "np.sum(aer_weak)"
   ]
  },
  {
   "cell_type": "code",
   "execution_count": null,
   "id": "3b9220aa",
   "metadata": {},
   "outputs": [],
   "source": [
    "pl.hist(df_in['ERFaer'].loc[2005.5:2014.5,aer_weak].mean(axis=0))"
   ]
  },
  {
   "cell_type": "code",
   "execution_count": null,
   "id": "f18a31bb",
   "metadata": {},
   "outputs": [],
   "source": [
    "df_in['ERFaer'].loc[2005.5:2014.5,aer_weak].mean().mean()"
   ]
  },
  {
   "cell_type": "code",
   "execution_count": null,
   "id": "c149ca8e",
   "metadata": {},
   "outputs": [],
   "source": [
    "df_in['ERFaer'].loc[2005.5:2014.5,aer_weak].mean().std()"
   ]
  },
  {
   "cell_type": "code",
   "execution_count": null,
   "id": "73311f3c",
   "metadata": {},
   "outputs": [],
   "source": [
    "accept_prob = st.uniform.rvs(loc=0, scale=1, size=n_ens, random_state=42417764)\n",
    "aer_central = np.zeros(n_ens, dtype=bool)\n",
    "for i in range(n_ens):\n",
    "    likelihood = st.norm.pdf(df_in['ERFaer'].loc[2005.5:2014.5,str(i)].mean(axis=0), loc=-0.99, scale=0.11)/st.norm.pdf(-0.99, loc=-0.99, scale=0.11)\n",
    "    if likelihood>=accept_prob[i]:\n",
    "        aer_central[i] = True\n",
    "    #print(likelihood)\n",
    "np.sum(aer_central)"
   ]
  },
  {
   "cell_type": "code",
   "execution_count": null,
   "id": "85097db8",
   "metadata": {},
   "outputs": [],
   "source": [
    "pl.hist(df_in['ERFaer'].loc[2005.5:2014.5,aer_central].mean(axis=0))"
   ]
  },
  {
   "cell_type": "code",
   "execution_count": null,
   "id": "e7a8831f",
   "metadata": {},
   "outputs": [],
   "source": [
    "df_in['ERFaer'].loc[2005.5:2014.5,aer_central].mean().mean()"
   ]
  },
  {
   "cell_type": "code",
   "execution_count": null,
   "id": "c3bcff43",
   "metadata": {},
   "outputs": [],
   "source": [
    "df_in['ERFaer'].loc[2005.5:2014.5,aer_central].mean().std()"
   ]
  },
  {
   "cell_type": "code",
   "execution_count": null,
   "id": "49e9e3a7",
   "metadata": {},
   "outputs": [],
   "source": [
    "fig,ax=pl.subplots(figsize=(10,10))\n",
    "ax.plot(np.arange(1750.5,2101), np.median(df_in['temperature'].loc[:,aer_strong], axis=1), color='r')\n",
    "ax.fill_between(\n",
    "    np.arange(1750.5,2101), \n",
    "    np.percentile(df_in['temperature'].loc[:,aer_strong], 5, axis=1), \n",
    "    np.percentile(df_in['temperature'].loc[:,aer_strong], 95, axis=1), \n",
    "    color=\"r\", alpha=0.2, \n",
    "    label='strong PD Faer (%.2f $\\pm$ %.2f) W m$^{-2}$' % \n",
    "    (df_in['ERFaer'].loc[2005.5:2014.5,aer_strong].mean().mean(), df_in['ERFaer'].loc[2005.5:2014.5,aer_strong].mean().std())\n",
    ")\n",
    "\n",
    "ax.plot(np.arange(1750.5,2101), np.median(df_in['temperature'].loc[:,aer_central], axis=1), color='y')\n",
    "ax.fill_between(\n",
    "    np.arange(1750.5,2101), \n",
    "    np.percentile(df_in['temperature'].loc[:,aer_central], 5, axis=1), \n",
    "    np.percentile(df_in['temperature'].loc[:,aer_central], 95, axis=1), \n",
    "    color=\"y\", alpha=0.2, label='moderate PD Faer (%.2f $\\pm$ %.2f) W m$^{-2}$' % \n",
    "    (df_in['ERFaer'].loc[2005.5:2014.5,aer_central].mean().mean(), df_in['ERFaer'].loc[2005.5:2014.5,aer_central].mean().std())\n",
    ")\n",
    "\n",
    "ax.plot(np.arange(1750.5,2101), np.median(df_in['temperature'].loc[:,aer_weak], axis=1), color='b')\n",
    "ax.fill_between(\n",
    "    np.arange(1750.5,2101), \n",
    "    np.percentile(df_in['temperature'].loc[:,aer_weak], 5, axis=1), \n",
    "    np.percentile(df_in['temperature'].loc[:,aer_weak], 95, axis=1), \n",
    "    color=\"b\", alpha=0.2, label='weak PD Faer (%.2f $\\pm$ %.2f) W m$^{-2}$' % \n",
    "    (df_in['ERFaer'].loc[2005.5:2014.5,aer_weak].mean().mean(), df_in['ERFaer'].loc[2005.5:2014.5,aer_weak].mean().std())\n",
    ")\n",
    "# ax.plot(np.arange(1995.5,2101), np.median(df_in['temperature'], axis=1), color='k')\n",
    "# ax.fill_between(np.arange(1995.5,2101), np.percentile(df_in['temperature'], 5, axis=1), np.percentile(df_in['temperature'], 95, axis=1), label='AR6 ensemble (%.2f $\\pm$ %.2f) W m$^{-2}$' % (df_in['ERFaer'].loc[2019.5,:].mean(), df_in['ERFaer'].loc[2019.5,:].std()), color=\"k\", alpha=0.2)\n",
    "ax.plot(\n",
    "    np.arange(1850.5,2022), \n",
    "    hadcrut5_df.loc[:171,'Anomaly (deg C)']-hadcrut5_df.loc[0:50,'Anomaly (deg C)'].mean(), \n",
    "    color='k', label='HadCRUT5'\n",
    ")\n",
    "ax.set_xlim(1950,2100)\n",
    "ax.set_ylim(0, 2.5)\n",
    "ax.axhline(1.5, ls=':', color='k')\n",
    "ax.legend(loc='upper left')\n",
    "ax.set_title('SSP1-2.6')\n",
    "pl.savefig('../plots/ssp126_three_aer_forcings.png')"
   ]
  },
  {
   "cell_type": "code",
   "execution_count": null,
   "id": "753f63f7",
   "metadata": {},
   "outputs": [],
   "source": [
    "aer_minus1_lb = df_in['ERFaer'].loc[2005.5:2014.5].mean()>-1"
   ]
  },
  {
   "cell_type": "code",
   "execution_count": null,
   "id": "b7ddef98",
   "metadata": {},
   "outputs": [],
   "source": [
    "fig,ax=pl.subplots(figsize=(10,10))\n",
    "\n",
    "ax.plot(np.arange(1750.5,2101), np.median(df_in['temperature'].loc[:,aer_minus1_lb], axis=1), color='b')\n",
    "ax.fill_between(\n",
    "    np.arange(1750.5,2101), \n",
    "    np.percentile(df_in['temperature'].loc[:,aer_minus1_lb], 5, axis=1), \n",
    "    np.percentile(df_in['temperature'].loc[:,aer_minus1_lb], 95, axis=1), \n",
    "    color=\"b\", alpha=0.2, label='aerosol ERF lower bound -1 W m$^{-2}$'\n",
    ")\n",
    "\n",
    "ax.plot(\n",
    "    np.arange(1850.5,2022), \n",
    "    hadcrut5_df.loc[:171,'Anomaly (deg C)']-hadcrut5_df.loc[0:50,'Anomaly (deg C)'].mean(), \n",
    "    color='k', label='HadCRUT5'\n",
    ")\n",
    "ax.set_xlim(1950,2100)\n",
    "ax.set_ylim(0, 2.5)\n",
    "ax.axhline(1.5, ls=':', color='k')\n",
    "ax.legend(loc='upper left')\n",
    "ax.set_title('SSP1-2.6')\n",
    "pl.savefig('../plots/ssp126_aer_lower_bound_-1.png')"
   ]
  },
  {
   "cell_type": "markdown",
   "id": "2f4336e3",
   "metadata": {},
   "source": [
    "## Characterise by ECS"
   ]
  },
  {
   "cell_type": "code",
   "execution_count": null,
   "id": "ec404ac5",
   "metadata": {},
   "outputs": [],
   "source": [
    "with open('../data_input/ar6-fair-samples/fair-1.6.2-wg3-params-slim-reconstrained.json') as f:\n",
    "    config_list_variable = json.load(f)"
   ]
  },
  {
   "cell_type": "code",
   "execution_count": null,
   "id": "7db21ec8",
   "metadata": {},
   "outputs": [],
   "source": [
    "def get_ecs(cfg):\n",
    "    return(cfg['F2x']/cfg['lambda_global'])"
   ]
  },
  {
   "cell_type": "code",
   "execution_count": null,
   "id": "b33c77e8",
   "metadata": {},
   "outputs": [],
   "source": [
    "ecs = np.zeros(n_ens)\n",
    "for i, cfg in enumerate(config_list_variable):\n",
    "    ecs[i] = get_ecs(cfg)"
   ]
  },
  {
   "cell_type": "code",
   "execution_count": null,
   "id": "fb698037",
   "metadata": {},
   "outputs": [],
   "source": [
    "pl.hist(ecs, bins=np.arange(0, 14, 0.5))\n",
    "print(np.percentile(ecs, (5, 10, 16, 20, 50, 80, 84, 90, 95)))"
   ]
  },
  {
   "cell_type": "code",
   "execution_count": null,
   "id": "362f6998",
   "metadata": {},
   "outputs": [],
   "source": [
    "accept_prob = st.uniform.rvs(loc=0, scale=1, size=n_ens, random_state=31445701)\n",
    "high_ecs = np.zeros(n_ens, dtype=bool)\n",
    "for i in range(n_ens):\n",
    "    likelihood = st.norm.pdf(ecs[i], loc=4.6, scale=0.45)/st.norm.pdf(4.6, loc=4.6, scale=0.45)\n",
    "    if likelihood>=accept_prob[i]:\n",
    "        high_ecs[i] = True\n",
    "    #print(likelihood)\n",
    "np.sum(high_ecs)"
   ]
  },
  {
   "cell_type": "code",
   "execution_count": null,
   "id": "5c57e574",
   "metadata": {},
   "outputs": [],
   "source": [
    "ecs[high_ecs].mean(), ecs[high_ecs].std()"
   ]
  },
  {
   "cell_type": "code",
   "execution_count": null,
   "id": "736a322a",
   "metadata": {},
   "outputs": [],
   "source": [
    "pl.hist(ecs[high_ecs])"
   ]
  },
  {
   "cell_type": "code",
   "execution_count": null,
   "id": "3ad0bc50",
   "metadata": {},
   "outputs": [],
   "source": [
    "accept_prob = st.uniform.rvs(loc=0, scale=1, size=n_ens, random_state=43245452)\n",
    "low_ecs = np.zeros(n_ens, dtype=bool)\n",
    "for i in range(n_ens):\n",
    "    likelihood = st.norm.pdf(ecs[i], loc=1.98, scale=0.3)/st.norm.pdf(1.98, loc=1.98, scale=0.3)\n",
    "    if likelihood>=accept_prob[i]:\n",
    "        low_ecs[i] = True\n",
    "    #print(likelihood)\n",
    "np.sum(low_ecs)"
   ]
  },
  {
   "cell_type": "code",
   "execution_count": null,
   "id": "11b25ab1",
   "metadata": {},
   "outputs": [],
   "source": [
    "ecs[low_ecs].mean(), ecs[low_ecs].std()"
   ]
  },
  {
   "cell_type": "code",
   "execution_count": null,
   "id": "0d80a735",
   "metadata": {},
   "outputs": [],
   "source": [
    "pl.hist(ecs[low_ecs])"
   ]
  },
  {
   "cell_type": "code",
   "execution_count": null,
   "id": "ff147fde",
   "metadata": {},
   "outputs": [],
   "source": [
    "accept_prob = st.uniform.rvs(loc=0, scale=1, size=n_ens, random_state=424326843)\n",
    "mid_ecs = np.zeros(n_ens, dtype=bool)\n",
    "for i in range(n_ens):\n",
    "    likelihood = st.norm.pdf(ecs[i], loc=3, scale=0.31)/st.norm.pdf(3, loc=3, scale=0.31)\n",
    "    if likelihood>=accept_prob[i]:\n",
    "        mid_ecs[i] = True\n",
    "    #print(likelihood)\n",
    "np.sum(mid_ecs)"
   ]
  },
  {
   "cell_type": "code",
   "execution_count": null,
   "id": "7a8d1f8f",
   "metadata": {},
   "outputs": [],
   "source": [
    "ecs[mid_ecs].mean(), ecs[mid_ecs].std()"
   ]
  },
  {
   "cell_type": "code",
   "execution_count": null,
   "id": "e83fb7a5",
   "metadata": {},
   "outputs": [],
   "source": [
    "pl.hist(ecs[mid_ecs])"
   ]
  },
  {
   "cell_type": "code",
   "execution_count": null,
   "id": "526f1bf2",
   "metadata": {},
   "outputs": [],
   "source": [
    "fig,ax=pl.subplots(figsize=(10,10))\n",
    "\n",
    "ax.plot(np.arange(1750.5,2101), np.median(df_in['temperature'].loc[:,high_ecs], axis=1), color='r')\n",
    "ax.fill_between(np.arange(1750.5,2101), np.percentile(df_in['temperature'].loc[:,high_ecs], 5, axis=1), np.percentile(df_in['temperature'].loc[:,high_ecs], 95, axis=1), color=\"r\", alpha=0.2, label='High ECS (%.2f $\\pm$ %.2f) K' % (ecs[high_ecs].mean(), ecs[high_ecs].std()))\n",
    "ax.plot(np.arange(1750.5,2101), np.median(df_in['temperature'].loc[:,mid_ecs], axis=1), color='y')\n",
    "ax.fill_between(np.arange(1750.5,2101), np.percentile(df_in['temperature'].loc[:,mid_ecs], 5, axis=1), np.percentile(df_in['temperature'].loc[:,mid_ecs], 95, axis=1), color=\"y\", alpha=0.2, label='Mid ECS (%.2f $\\pm$ %.2f) K' % (ecs[mid_ecs].mean(), ecs[mid_ecs].std()))\n",
    "ax.plot(np.arange(1750.5,2101), np.median(df_in['temperature'].loc[:,low_ecs], axis=1), color='b')\n",
    "ax.fill_between(np.arange(1750.5,2101), np.percentile(df_in['temperature'].loc[:,low_ecs], 5, axis=1), np.percentile(df_in['temperature'].loc[:,low_ecs], 95, axis=1), color=\"b\", alpha=0.2, label='Low ECS (%.2f $\\pm$ %.2f) K' % (ecs[low_ecs].mean(), ecs[low_ecs].std()))\n",
    "# ax.plot(np.arange(1995.5,2101), np.median(df_in['temperature'], axis=1), color='k')\n",
    "# ax.fill_between(np.arange(1995.5,2101), np.percentile(df_in['temperature'], 5, axis=1), np.percentile(df_in['temperature'], 95, axis=1), label='AR6 ensemble (%.2f $\\pm$ %.2f) K' % (ecs.mean(), ecs.std()), color=\"k\", alpha=0.2)\n",
    "ax.plot(np.arange(1850.5,2022), hadcrut5_df.loc[:171,'Anomaly (deg C)']-hadcrut5_df.loc[0:50,'Anomaly (deg C)'].mean(), color='k', label='HadCRUT5')\n",
    "ax.set_xlim(1950,2100)\n",
    "ax.set_ylim(0, 2.5)\n",
    "ax.axhline(1.5, ls=':', color='k')\n",
    "ax.legend(loc='upper left')\n",
    "ax.set_title('SSP1-2.6')\n",
    "pl.savefig('../plots/ssp126_three_ecs_distributions.png')"
   ]
  },
  {
   "cell_type": "code",
   "execution_count": null,
   "id": "b284c578",
   "metadata": {},
   "outputs": [],
   "source": [
    "pl.hist(ecs[low_ecs], bins=np.arange(0,10,.4), alpha=0.4, density=True, color='b')\n",
    "pl.hist(ecs[mid_ecs], bins=np.arange(0,10,.4), alpha=0.4, density=True, color='y')\n",
    "pl.hist(ecs[high_ecs], bins=np.arange(0,10,.4), alpha=0.4, density=True, color='r')"
   ]
  },
  {
   "cell_type": "markdown",
   "id": "8d3db6e5",
   "metadata": {},
   "source": [
    "## Characterise by rate of change of aerosol forcing\n",
    "\n",
    "Do as a regression"
   ]
  },
  {
   "cell_type": "markdown",
   "id": "649005d5",
   "metadata": {},
   "source": [
    "### mean of 2010-2020 minus 2000-2010"
   ]
  },
  {
   "cell_type": "code",
   "execution_count": null,
   "id": "5b23268c",
   "metadata": {},
   "outputs": [],
   "source": [
    "pl.hist(df_in['ERFaer'].loc[2010.5:2019.5].mean()-df_in['ERFaer'].loc[2000.5:2009.5].mean())\n",
    "np.percentile(df_in['ERFaer'].loc[2010.5:2019.5].mean()-df_in['ERFaer'].loc[2000.5:2009.5].mean(), (5, 10, 50, 90, 95))"
   ]
  },
  {
   "cell_type": "markdown",
   "id": "951db474",
   "metadata": {},
   "source": [
    "### regression slope"
   ]
  },
  {
   "cell_type": "code",
   "execution_count": null,
   "id": "ac9ea458",
   "metadata": {},
   "outputs": [],
   "source": [
    "rates = np.zeros(n_ens)\n",
    "for i_ens in range(n_ens):\n",
    "    rates[i_ens] = st.linregress(np.arange(2000.5, 2020), df_in['ERFaer'].loc[2000.5:2019.5, str(i_ens)]).slope"
   ]
  },
  {
   "cell_type": "code",
   "execution_count": null,
   "id": "0fd1d6bd",
   "metadata": {},
   "outputs": [],
   "source": [
    "pl.hist(rates)\n",
    "pl.xlabel('W m$^{-2}$ yr$^{-1}$ 2000-2019')\n",
    "np.percentile(rates, (5, 10, 50, 90, 95))"
   ]
  },
  {
   "cell_type": "code",
   "execution_count": null,
   "id": "e017eb00",
   "metadata": {},
   "outputs": [],
   "source": [
    "accept_prob = st.uniform.rvs(loc=0, scale=1, size=n_ens, random_state=1293650)\n",
    "recov_slow = np.zeros(n_ens, dtype=bool)\n",
    "for i in range(n_ens):\n",
    "    likelihood = st.norm.pdf(rates[i], loc=0.003195, scale=0.001)/st.norm.pdf(0.003195, loc=0.003195, scale=0.001)\n",
    "    if likelihood>=accept_prob[i]:\n",
    "        recov_slow[i] = True\n",
    "    #print(likelihood)\n",
    "np.sum(recov_slow)"
   ]
  },
  {
   "cell_type": "code",
   "execution_count": null,
   "id": "a69d66c2",
   "metadata": {},
   "outputs": [],
   "source": [
    "pl.hist(rates[recov_slow])"
   ]
  },
  {
   "cell_type": "code",
   "execution_count": null,
   "id": "3bf2820c",
   "metadata": {},
   "outputs": [],
   "source": [
    "# 0.0035412 \n",
    "rates[recov_slow].mean()"
   ]
  },
  {
   "cell_type": "code",
   "execution_count": null,
   "id": "f052e7e7",
   "metadata": {},
   "outputs": [],
   "source": [
    "rates[recov_slow].std()"
   ]
  },
  {
   "cell_type": "code",
   "execution_count": null,
   "id": "b3f757a9",
   "metadata": {},
   "outputs": [],
   "source": [
    "accept_prob = st.uniform.rvs(loc=0, scale=1, size=n_ens, random_state=40961094)\n",
    "recov_fast = np.zeros(n_ens, dtype=bool)\n",
    "for i in range(n_ens):\n",
    "    likelihood = st.norm.pdf(rates[i], loc=0.01259, scale=0.001)/st.norm.pdf(0.01259, loc=0.01259, scale=0.001)\n",
    "    if likelihood>=accept_prob[i]:\n",
    "        recov_fast[i] = True\n",
    "    #print(likelihood)\n",
    "np.sum(recov_fast)"
   ]
  },
  {
   "cell_type": "code",
   "execution_count": null,
   "id": "37a1169d",
   "metadata": {},
   "outputs": [],
   "source": [
    "pl.hist(rates[recov_fast])"
   ]
  },
  {
   "cell_type": "code",
   "execution_count": null,
   "id": "3b988eb3",
   "metadata": {},
   "outputs": [],
   "source": [
    "# 0.01222895\n",
    "rates[recov_fast].mean()"
   ]
  },
  {
   "cell_type": "code",
   "execution_count": null,
   "id": "574b28df",
   "metadata": {},
   "outputs": [],
   "source": [
    "rates[recov_fast].std()"
   ]
  },
  {
   "cell_type": "code",
   "execution_count": null,
   "id": "0edcd718",
   "metadata": {},
   "outputs": [],
   "source": [
    "accept_prob = st.uniform.rvs(loc=0, scale=1, size=n_ens, random_state=24678762)\n",
    "recov_central = np.zeros(n_ens, dtype=bool)\n",
    "for i in range(n_ens):\n",
    "    likelihood = st.norm.pdf(rates[i], loc=0.007845, scale=0.001)/st.norm.pdf(0.007845, loc=0.007845, scale=0.001)\n",
    "    if likelihood>=accept_prob[i]:\n",
    "        recov_central[i] = True\n",
    "    #print(likelihood)\n",
    "np.sum(recov_central)"
   ]
  },
  {
   "cell_type": "code",
   "execution_count": null,
   "id": "ed8ffa88",
   "metadata": {},
   "outputs": [],
   "source": [
    "pl.hist(rates[recov_central])"
   ]
  },
  {
   "cell_type": "code",
   "execution_count": null,
   "id": "863ed0bd",
   "metadata": {},
   "outputs": [],
   "source": [
    "# 0.00783677\n",
    "rates[recov_central].mean()"
   ]
  },
  {
   "cell_type": "code",
   "execution_count": null,
   "id": "cfcf2397",
   "metadata": {},
   "outputs": [],
   "source": [
    "rates[recov_central].std()"
   ]
  },
  {
   "cell_type": "code",
   "execution_count": null,
   "id": "6ad50138",
   "metadata": {},
   "outputs": [],
   "source": [
    "fig,ax=pl.subplots(figsize=(10,10))\n",
    "ax.plot(np.arange(1750.5,2101), np.median(df_in['temperature'].loc[:,recov_fast], axis=1), color='r')\n",
    "ax.fill_between(\n",
    "    np.arange(1750.5,2101), \n",
    "    np.percentile(df_in['temperature'].loc[:,recov_fast], 5, axis=1), \n",
    "    np.percentile(df_in['temperature'].loc[:,recov_fast], 95, axis=1), \n",
    "    color=\"r\", alpha=0.2, \n",
    "    label='fast recovery (%.5f $\\pm$ %.5f) W m$^{-2}$ yr$^{-1}$' % \n",
    "    (rates[recov_fast].mean(), rates[recov_fast].std())\n",
    ")\n",
    "\n",
    "ax.plot(np.arange(1750.5,2101), np.median(df_in['temperature'].loc[:,recov_central], axis=1), color='y')\n",
    "ax.fill_between(\n",
    "    np.arange(1750.5,2101), \n",
    "    np.percentile(df_in['temperature'].loc[:,recov_central], 5, axis=1), \n",
    "    np.percentile(df_in['temperature'].loc[:,recov_central], 95, axis=1), \n",
    "    color=\"y\", alpha=0.2, label='moderate recovery (%.5f $\\pm$ %.5f) W m$^{-2}$ yr$^{-1}$' % \n",
    "    (rates[recov_central].mean(), rates[recov_central].std())\n",
    ")\n",
    "\n",
    "ax.plot(np.arange(1750.5,2101), np.median(df_in['temperature'].loc[:,recov_slow], axis=1), color='b')\n",
    "ax.fill_between(\n",
    "    np.arange(1750.5,2101), \n",
    "    np.percentile(df_in['temperature'].loc[:,recov_slow], 5, axis=1), \n",
    "    np.percentile(df_in['temperature'].loc[:,recov_slow], 95, axis=1), \n",
    "    color=\"b\", alpha=0.2, label='slow recovery (%.5f $\\pm$ %.5f) W m$^{-2}$ yr$^{-1}$' % \n",
    "    (rates[recov_slow].mean(), rates[recov_slow].std())\n",
    ")\n",
    "# ax.plot(np.arange(1995.5,2101), np.median(df_in['temperature'], axis=1), color='k')\n",
    "# ax.fill_between(np.arange(1995.5,2101), np.percentile(df_in['temperature'], 5, axis=1), np.percentile(df_in['temperature'], 95, axis=1), label='AR6 ensemble (%.2f $\\pm$ %.2f) W m$^{-2}$' % (df_in['ERFaer'].loc[2019.5,:].mean(), df_in['ERFaer'].loc[2019.5,:].std()), color=\"k\", alpha=0.2)\n",
    "ax.plot(\n",
    "    np.arange(1850.5,2022), \n",
    "    hadcrut5_df.loc[:171,'Anomaly (deg C)']-hadcrut5_df.loc[0:50,'Anomaly (deg C)'].mean(), \n",
    "    color='k', label='HadCRUT5'\n",
    ")\n",
    "ax.set_xlim(1950,2100)\n",
    "ax.set_ylim(0, 2.5)\n",
    "ax.axhline(1.5, ls=':', color='k')\n",
    "ax.legend(loc='upper left')\n",
    "ax.set_title('SSP1-2.6')\n",
    "pl.savefig('../plots/ssp126_three_aer_recovery_rates.png')"
   ]
  },
  {
   "cell_type": "markdown",
   "id": "83f76d1d",
   "metadata": {},
   "source": [
    "## Make output data"
   ]
  },
  {
   "cell_type": "code",
   "execution_count": null,
   "id": "2ba395b7",
   "metadata": {},
   "outputs": [],
   "source": [
    "df_ecs = pd.DataFrame(\n",
    "    {\n",
    "        'ECS': ecs,\n",
    "        'low_ECS': low_ecs,\n",
    "        'mid_ECS': mid_ecs,\n",
    "        'high_ECS': high_ecs\n",
    "    }\n",
    ")"
   ]
  },
  {
   "cell_type": "code",
   "execution_count": null,
   "id": "62e3271c",
   "metadata": {},
   "outputs": [],
   "source": [
    "df_ecs"
   ]
  },
  {
   "cell_type": "code",
   "execution_count": null,
   "id": "f65d8d19",
   "metadata": {},
   "outputs": [],
   "source": [
    "mkdir_p('../data_output/')"
   ]
  },
  {
   "cell_type": "code",
   "execution_count": null,
   "id": "7210184b",
   "metadata": {},
   "outputs": [],
   "source": [
    "df_ecs.to_csv('../data_output/ecs.csv')"
   ]
  },
  {
   "cell_type": "code",
   "execution_count": null,
   "id": "6a0b2f1f",
   "metadata": {},
   "outputs": [],
   "source": [
    "df_aero_dists = pd.DataFrame(\n",
    "    {\n",
    "        'strong_aer': aer_strong,\n",
    "        'mid_aer': aer_central,\n",
    "        'weak_aer': aer_weak,\n",
    "        'minus1_lb_aer': aer_minus1_lb\n",
    "    }\n",
    ")"
   ]
  },
  {
   "cell_type": "code",
   "execution_count": null,
   "id": "6c664a0c",
   "metadata": {},
   "outputs": [],
   "source": [
    "df_aero_dists.to_csv('../data_output/aerosol_distributions.csv')"
   ]
  },
  {
   "cell_type": "markdown",
   "id": "1065cff9",
   "metadata": {},
   "source": [
    "## Show that the strong aerosol forcing is Higher 2C\n",
    "\n",
    "Likelihood of 50-66% of staying under 2C for entire 21st century:\n",
    "- peak median warming < 2C\n",
    "- peak 66th percentile warming > 2C"
   ]
  },
  {
   "cell_type": "code",
   "execution_count": null,
   "id": "b60e5b38",
   "metadata": {},
   "outputs": [],
   "source": [
    "np.max(np.median(df_in['temperature'].loc[:,aer_strong], axis=1))"
   ]
  },
  {
   "cell_type": "code",
   "execution_count": null,
   "id": "a9e688f8",
   "metadata": {},
   "outputs": [],
   "source": [
    "np.max(np.percentile(df_in['temperature'].loc[:,aer_strong], 66, axis=1))"
   ]
  },
  {
   "cell_type": "markdown",
   "id": "3098a755",
   "metadata": {},
   "source": [
    "## Show that the weak aerosol forcing is Below 1.5C\n",
    "\n",
    "Likelihood of 50-66% of staying under 1.5C for entire 21st century:\n",
    "- peak median warming < 1.5C\n",
    "- peak 66th percentile warming > 1.5C\n",
    "\n",
    "there is a lower unused category of SR1.5 where the 66th percentile is less than 1.5C and in fact it falls into this too"
   ]
  },
  {
   "cell_type": "code",
   "execution_count": null,
   "id": "c31a952a",
   "metadata": {},
   "outputs": [],
   "source": [
    "np.max(np.median(df_in['temperature'].loc[:,aer_weak], axis=1))"
   ]
  },
  {
   "cell_type": "code",
   "execution_count": null,
   "id": "c995ce9f",
   "metadata": {},
   "outputs": [],
   "source": [
    "np.max(np.percentile(df_in['temperature'].loc[:,aer_weak], 66, axis=1))"
   ]
  },
  {
   "cell_type": "code",
   "execution_count": null,
   "id": "7f4e3e52",
   "metadata": {},
   "outputs": [],
   "source": []
  }
 ],
 "metadata": {
  "kernelspec": {
   "display_name": "Python 3 (ipykernel)",
   "language": "python",
   "name": "python3"
  },
  "language_info": {
   "codemirror_mode": {
    "name": "ipython",
    "version": 3
   },
   "file_extension": ".py",
   "mimetype": "text/x-python",
   "name": "python",
   "nbconvert_exporter": "python",
   "pygments_lexer": "ipython3",
   "version": "3.10.2"
  }
 },
 "nbformat": 4,
 "nbformat_minor": 5
}
