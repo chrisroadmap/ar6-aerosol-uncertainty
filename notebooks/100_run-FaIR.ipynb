{
 "cells": [
  {
   "cell_type": "code",
   "execution_count": null,
   "id": "2adda01c",
   "metadata": {},
   "outputs": [],
   "source": [
    "import fair\n",
    "import matplotlib.pyplot as pl\n",
    "import pandas as pd\n",
    "import numpy as np\n",
    "import scipy.stats as st\n",
    "from tqdm import tqdm\n",
    "import json\n",
    "from climateforcing.utils import mkdir_p"
   ]
  },
  {
   "cell_type": "code",
   "execution_count": null,
   "id": "e23b13d3",
   "metadata": {},
   "outputs": [],
   "source": [
    "# set up plotting\n",
    "pl.rcParams['figure.figsize'] = (12/2.54, 9/2.54)\n",
    "pl.rcParams['font.size'] = 12\n",
    "pl.rcParams['font.family'] = 'Arial'\n",
    "pl.rcParams['xtick.direction'] = 'out'\n",
    "pl.rcParams['ytick.direction'] = 'out'\n",
    "pl.rcParams['xtick.minor.visible'] = True\n",
    "pl.rcParams['ytick.major.left'] = True\n",
    "pl.rcParams['ytick.major.right'] = True\n",
    "pl.rcParams['ytick.minor.visible'] = True\n",
    "pl.rcParams['xtick.top'] = True\n",
    "pl.rcParams['ytick.right'] = True"
   ]
  },
  {
   "cell_type": "code",
   "execution_count": null,
   "id": "8fd721d5",
   "metadata": {},
   "outputs": [],
   "source": [
    "ssp_df = pd.read_csv('../data_input/rcmip/rcmip-emissions-annual-means-v5-1-0.csv')\n",
    "years = np.arange(1750, 2111)\n",
    "years_future = [2015] + list(range(2020,2111,10))\n",
    "\n",
    "startyear = 1750\n",
    "first_scenyear = 2015\n",
    "last_scenyear = 2110\n",
    "first_row = int(first_scenyear-startyear)\n",
    "last_row = int(last_scenyear-startyear)\n",
    "\n",
    "scenarios = ['ssp126']\n",
    "\n",
    "species = [  # in fair 1.6, order is important\n",
    "    '|CO2|MAGICC Fossil and Industrial',\n",
    "    '|CO2|MAGICC AFOLU',\n",
    "    '|CH4',\n",
    "    '|N2O',\n",
    "    '|Sulfur',\n",
    "    '|CO',\n",
    "    '|VOC',\n",
    "    '|NOx',\n",
    "    '|BC',\n",
    "    '|OC',\n",
    "    '|NH3',\n",
    "    '|CF4',\n",
    "    '|C2F6',\n",
    "    '|C6F14',\n",
    "    '|HFC23',\n",
    "    '|HFC32',\n",
    "    '|HFC4310mee',\n",
    "    '|HFC125',\n",
    "    '|HFC134a',\n",
    "    '|HFC143a',\n",
    "    '|HFC227ea',\n",
    "    '|HFC245fa',\n",
    "    '|SF6',\n",
    "    '|CFC11',\n",
    "    '|CFC12',\n",
    "    '|CFC113',\n",
    "    '|CFC114',\n",
    "    '|CFC115',\n",
    "    '|CCl4',\n",
    "    '|CH3CCl3',\n",
    "    '|HCFC22',\n",
    "    '|HCFC141b',\n",
    "    '|HCFC142b',\n",
    "    '|Halon1211',\n",
    "    '|Halon1202',\n",
    "    '|Halon1301',\n",
    "    '|Halon2402',\n",
    "    '|CH3Br',\n",
    "    '|CH3Cl',\n",
    "]\n",
    "\n",
    "# Assume that units coming out of aneris don't change. One day I'll do unit parsing\n",
    "unit_convert = np.ones(40)\n",
    "unit_convert[1] = 12/44/1000\n",
    "unit_convert[2] = 12/44/1000\n",
    "unit_convert[4] = 28/44/1000\n",
    "unit_convert[5] = 32/64\n",
    "unit_convert[8] = 14/46\n",
    "\n",
    "data_out = {}\n",
    "\n",
    "for scenario in scenarios:\n",
    "    data_out[scenario] = np.ones((361, 40)) * np.nan\n",
    "    data_out[scenario][:,0] = years\n",
    "\n",
    "    # past emissions from Zeb\n",
    "    for i, specie in enumerate(species):\n",
    "        data_out[scenario][:,i+1] = ssp_df.loc[(ssp_df['Region']=='World')&(ssp_df['Scenario']==scenario)&(ssp_df['Variable'].str.endswith(specie)),str(startyear):'2110'].interpolate(axis=1)*unit_convert[i+1]"
   ]
  },
  {
   "cell_type": "code",
   "execution_count": null,
   "id": "778e1e82",
   "metadata": {},
   "outputs": [],
   "source": [
    "pl.plot(data_out[scenario][250:300, 0], data_out[scenario][250:300, 11])"
   ]
  },
  {
   "cell_type": "code",
   "execution_count": null,
   "id": "78d7f358",
   "metadata": {},
   "outputs": [],
   "source": [
    "results_out = {}"
   ]
  },
  {
   "cell_type": "code",
   "execution_count": null,
   "id": "6152c849",
   "metadata": {},
   "outputs": [],
   "source": [
    "with open('../data_input/fair-ar6-calib/fair-1.6.2-wg3-params.json') as f:\n",
    "    config_list = json.load(f)"
   ]
  },
  {
   "cell_type": "code",
   "execution_count": null,
   "id": "cf0e680d",
   "metadata": {},
   "outputs": [],
   "source": [
    "updated_config = []\n",
    "for i, cfg in enumerate(config_list):\n",
    "    updated_config.append({})\n",
    "    for key, value in cfg.items():\n",
    "        if isinstance(value, list):\n",
    "            updated_config[i][key] = np.asarray(value)\n",
    "        else:\n",
    "            updated_config[i][key] = value\n",
    "    updated_config[i]['emissions'] = data_out['ssp126']\n",
    "    updated_config[i]['diagnostics'] = 'AR6'\n",
    "    updated_config[i][\"efficacy\"] = np.ones(45)\n",
    "    updated_config[i][\"gir_carbon_cycle\"] = True\n",
    "    updated_config[i][\"temperature_function\"] = \"Geoffroy\"\n",
    "    updated_config[i][\"aerosol_forcing\"] = \"aerocom+ghan2\"\n",
    "    updated_config[i][\"fixPre1850RCP\"] = False\n",
    "    updated_config[i][\"scale\"][43] = 0.6\n",
    "    updated_config[i][\"F_solar\"][270:] = 0"
   ]
  },
  {
   "cell_type": "code",
   "execution_count": null,
   "id": "daf49db5",
   "metadata": {},
   "outputs": [],
   "source": [
    "T = np.zeros((361, len(updated_config)))\n",
    "F_aer = np.zeros((361, len(updated_config)))\n",
    "for i in tqdm(range(len(updated_config))):\n",
    "    thisC, thisF, T[:,i], _, thisOHU, _, thisAF = fair.forward.fair_scm(**updated_config[i])\n",
    "    F_aer[:,i]=thisF[:,35:41].sum(axis=1)"
   ]
  },
  {
   "cell_type": "code",
   "execution_count": null,
   "id": "a56b13de",
   "metadata": {},
   "outputs": [],
   "source": [
    "hadcrut5_df = pd.read_csv('../data/HadCRUT.5.0.1.0.analysis.summary_series.global.annual.csv')\n",
    "hadcrut5_df"
   ]
  },
  {
   "cell_type": "code",
   "execution_count": null,
   "id": "cfc9940b",
   "metadata": {},
   "outputs": [],
   "source": [
    "mkdir_p('../plots/')"
   ]
  },
  {
   "cell_type": "code",
   "execution_count": null,
   "id": "0679f870",
   "metadata": {},
   "outputs": [],
   "source": [
    "hadcrut5_df = pd.read_csv('../data_input/gsat/HadCRUT.5.0.1.0.analysis.summary_series.global.annual.csv')"
   ]
  },
  {
   "cell_type": "code",
   "execution_count": null,
   "id": "06688023",
   "metadata": {},
   "outputs": [],
   "source": [
    "T_rebase = T-np.mean(T[100:151,:], axis=0)\n",
    "fig,ax=pl.subplots()\n",
    "ax.plot(np.arange(1750,2111), np.median(T_rebase, axis=1), color='k', label='FaIR ensemble median')\n",
    "ax.fill_between(np.arange(1750,2111), np.percentile(T_rebase, 5, axis=1), np.percentile(T_rebase, 95, axis=1), label='FaIR 5-95% range', color=\"0.7\")\n",
    "ax.plot(hadcrut5_df.loc[0:171,'Time'], hadcrut5_df.loc[0:171,'Anomaly (deg C)']-hadcrut5_df.loc[0:50,'Anomaly (deg C)'].mean(), color='r', label='HadCRUT5')\n",
    "ax.set_xlim(1980,2100)\n",
    "ax.set_ylim(0,2.5)\n",
    "ax.axhline(1.5, ls=':', color='k')\n",
    "ax.set_title('SSP1-2.6')\n",
    "ax.legend(loc='lower right')\n",
    "ax.set_ylabel('Temperature relative to 1850-1900, °C')\n",
    "pl.figtext(1,0.02,'@chrisroadmap',ha='right', color='0.6')\n",
    "pl.figtext(0,0.02,'2237 ensemble members, FaIRv1.6.2')\n",
    "#ax.text(0.99,0.01,'FaIRv1.6.2 2237 constrained ensemble members', transform=ax.transAxes, ha='right')\n",
    "#ax.text(0.99,)\n",
    "fig.tight_layout(rect=[0.0,0.05,1,1])\n",
    "fig.patch.set_facecolor('white')\n",
    "pl.savefig('../plots/ssp126-default.png')"
   ]
  },
  {
   "cell_type": "code",
   "execution_count": null,
   "id": "e727d68a",
   "metadata": {},
   "outputs": [],
   "source": [
    "fig,ax=pl.subplots()\n",
    "ax.plot(np.arange(1750,2111), np.median(F_aer, axis=1), color='k', label='FaIR ensemble median')\n",
    "ax.fill_between(np.arange(1750,2111), np.percentile(F_aer, 5, axis=1), np.percentile(F_aer, 95, axis=1), label='FaIR 5-95% range', color=\"0.7\")\n",
    "#ax.plot(hadcrut5_df.loc[0:170,'Time'], hadcrut5_df.loc[0:170,'Anomaly (deg C)']-hadcrut5_df.loc[0:50,'Anomaly (deg C)'].mean(), color='r', label='HadCRUT5')\n",
    "#ax.set_xlim(1980,2100)"
   ]
  },
  {
   "cell_type": "code",
   "execution_count": null,
   "id": "5ef40c74",
   "metadata": {},
   "outputs": [],
   "source": [
    "F_aer[269,:].mean()"
   ]
  },
  {
   "cell_type": "code",
   "execution_count": null,
   "id": "0a185a7c",
   "metadata": {},
   "outputs": [],
   "source": [
    "accept_prob = st.uniform.rvs(loc=0, scale=1, size=2237, random_state=79)\n",
    "constraint1 = np.zeros(2237, dtype=bool)\n",
    "for i in range(2237):\n",
    "    likelihood = st.norm.pdf(F_aer[269,:][i], loc=-1.52, scale=0.10)/st.norm.pdf(-1.52, loc=-1.52, scale=0.10)\n",
    "    if likelihood>=accept_prob[i]:\n",
    "        constraint1[i] = True\n",
    "    #print(likelihood)\n",
    "np.sum(constraint1)"
   ]
  },
  {
   "cell_type": "code",
   "execution_count": null,
   "id": "a62b094c",
   "metadata": {},
   "outputs": [],
   "source": [
    "pl.hist(F_aer[269,constraint1])"
   ]
  },
  {
   "cell_type": "code",
   "execution_count": null,
   "id": "22c65f7a",
   "metadata": {},
   "outputs": [],
   "source": [
    "F_aer[269,constraint1].mean()"
   ]
  },
  {
   "cell_type": "code",
   "execution_count": null,
   "id": "29091503",
   "metadata": {},
   "outputs": [],
   "source": [
    "F_aer[269,constraint1].std()"
   ]
  },
  {
   "cell_type": "code",
   "execution_count": null,
   "id": "b97c2b7d",
   "metadata": {},
   "outputs": [],
   "source": [
    "accept_prob = st.uniform.rvs(loc=0, scale=1, size=2237, random_state=80)\n",
    "constraint2 = np.zeros(2237, dtype=bool)\n",
    "for i in range(2237):\n",
    "    likelihood = st.norm.pdf(F_aer[269,:][i], loc=-0.40, scale=0.09)/st.norm.pdf(-0.40, loc=-0.40, scale=0.09)\n",
    "    if likelihood>=accept_prob[i]:\n",
    "        constraint2[i] = True\n",
    "    #print(likelihood)\n",
    "np.sum(constraint2)"
   ]
  },
  {
   "cell_type": "code",
   "execution_count": null,
   "id": "a5405ab6",
   "metadata": {},
   "outputs": [],
   "source": [
    "pl.hist(F_aer[269,constraint2])"
   ]
  },
  {
   "cell_type": "code",
   "execution_count": null,
   "id": "b0bbac6e",
   "metadata": {},
   "outputs": [],
   "source": [
    "F_aer[269,constraint2].std()"
   ]
  },
  {
   "cell_type": "code",
   "execution_count": null,
   "id": "b4dee51c",
   "metadata": {},
   "outputs": [],
   "source": [
    "F_aer[269,constraint2].mean()"
   ]
  },
  {
   "cell_type": "code",
   "execution_count": null,
   "id": "3fd383d1",
   "metadata": {},
   "outputs": [],
   "source": [
    "fig,ax=pl.subplots()\n",
    "ax.plot(np.arange(1750,2111), np.median(T_rebase[:,accept_run], axis=1), color='k', label='FaIR ensemble median')\n",
    "ax.fill_between(np.arange(1750,2111), np.percentile(T_rebase[:,accept_run], 5, axis=1), np.percentile(T_rebase[:,accept_run], 95, axis=1), label='FaIR 5-95% range', color=\"0.7\")\n",
    "ax.plot(hadcrut5_df.loc[0:171,'Time'], hadcrut5_df.loc[0:171,'Anomaly (deg C)']-hadcrut5_df.loc[0:50,'Anomaly (deg C)'].mean(), color='r', label='HadCRUT5')\n",
    "ax.set_xlim(1980,2100)\n",
    "ax.set_ylim(0,2.5)\n",
    "ax.axhline(1.5, ls=':', color='k')\n",
    "ax.set_title('SSP1-2.6')\n",
    "ax.legend(loc='lower right')\n",
    "ax.set_ylabel('Temperature relative to 1850-1900, °C')\n",
    "pl.figtext(1,0.02,'@chrisroadmap',ha='right', color='0.6')\n",
    "pl.figtext(0,0.02,'2237 ensemble members, FaIRv1.6.2')\n",
    "#ax.text(0.99,0.01,'FaIRv1.6.2 2237 constrained ensemble members', transform=ax.transAxes, ha='right')\n",
    "#ax.text(0.99,)\n",
    "fig.tight_layout(rect=[0.0,0.05,1,1])\n",
    "fig.patch.set_facecolor('white')\n",
    "#pl.savefig('../plots/ssp126-default.png')"
   ]
  },
  {
   "cell_type": "code",
   "execution_count": null,
   "id": "2b524877",
   "metadata": {},
   "outputs": [],
   "source": [
    "fig,ax=pl.subplots(figsize=(10,10))\n",
    "ax.plot(np.arange(1750,2111), np.median(T_rebase[:,constraint1], axis=1), color='b')\n",
    "ax.fill_between(np.arange(1750,2111), np.percentile(T_rebase[:,constraint1], 5, axis=1), np.percentile(T_rebase[:,constraint1], 95, axis=1), color=\"b\", alpha=0.2, label='strong PD Faer (%.2f $\\pm$ %.2f) W m$^{-2}$' % (F_aer[269,constraint1].mean(), F_aer[269,constraint1].std()))\n",
    "ax.plot(np.arange(1750,2111), np.median(T_rebase[:,constraint2], axis=1), color='g')\n",
    "ax.fill_between(np.arange(1750,2111), np.percentile(T_rebase[:,constraint2], 5, axis=1), np.percentile(T_rebase[:,constraint2], 95, axis=1), color=\"g\", alpha=0.2, label='weak PD Faer (%.2f $\\pm$ %.2f) W m$^{-2}$' % (F_aer[269,constraint2].mean(), F_aer[269,constraint1].std()))\n",
    "ax.plot(np.arange(1750,2111), np.median(T_rebase, axis=1), color='k')\n",
    "ax.fill_between(np.arange(1750,2111), np.percentile(T_rebase, 5, axis=1), np.percentile(T_rebase, 95, axis=1), label='AR6 ensemble (%.2f $\\pm$ %.2f) W m$^{-2}$' % (F_aer[269,:].mean(), F_aer[269,:].std()), color=\"k\", alpha=0.2)\n",
    "ax.plot(hadcrut5_df.loc[0:171,'Time'], hadcrut5_df.loc[0:171,'Anomaly (deg C)']-hadcrut5_df.loc[0:50,'Anomaly (deg C)'].mean(), color='r', label='HadCRUT5')\n",
    "ax.set_xlim(1980,2100)\n",
    "ax.set_ylim(0,3)\n",
    "ax.axhline(1.5, ls=':', color='k')\n",
    "ax.legend(loc='upper left')\n",
    "ax.set_title('SSP1-2.6')\n",
    "pl.savefig('../plots/ssp126_three_aer_forcings.png')"
   ]
  },
  {
   "cell_type": "code",
   "execution_count": null,
   "id": "21b93db8",
   "metadata": {},
   "outputs": [],
   "source": []
  }
 ],
 "metadata": {
  "kernelspec": {
   "display_name": "Python 3 (ipykernel)",
   "language": "python",
   "name": "python3"
  },
  "language_info": {
   "codemirror_mode": {
    "name": "ipython",
    "version": 3
   },
   "file_extension": ".py",
   "mimetype": "text/x-python",
   "name": "python",
   "nbconvert_exporter": "python",
   "pygments_lexer": "ipython3",
   "version": "3.10.2"
  }
 },
 "nbformat": 4,
 "nbformat_minor": 5
}
