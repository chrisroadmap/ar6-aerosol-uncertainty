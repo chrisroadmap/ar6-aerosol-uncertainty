{
 "cells": [
  {
   "cell_type": "code",
   "execution_count": null,
   "id": "2adda01c",
   "metadata": {},
   "outputs": [],
   "source": [
    "import json\n",
    "from multiprocessing import Pool\n",
    "import platform\n",
    "\n",
    "import fair\n",
    "import matplotlib.pyplot as pl\n",
    "import pandas as pd\n",
    "import numpy as np\n",
    "import scipy.stats as st\n",
    "from tqdm import tqdm\n",
    "from climateforcing.utils import mkdir_p"
   ]
  },
  {
   "cell_type": "markdown",
   "id": "b85b5c17",
   "metadata": {},
   "source": [
    "## Set up plotting styles"
   ]
  },
  {
   "cell_type": "code",
   "execution_count": null,
   "id": "e23b13d3",
   "metadata": {},
   "outputs": [],
   "source": [
    "pl.rcParams['figure.figsize'] = (12/2.54, 9/2.54)\n",
    "pl.rcParams['font.size'] = 12\n",
    "pl.rcParams['font.family'] = 'Arial'\n",
    "pl.rcParams['xtick.direction'] = 'out'\n",
    "pl.rcParams['ytick.direction'] = 'out'\n",
    "pl.rcParams['xtick.minor.visible'] = True\n",
    "pl.rcParams['ytick.major.left'] = True\n",
    "pl.rcParams['ytick.major.right'] = True\n",
    "pl.rcParams['ytick.minor.visible'] = True\n",
    "pl.rcParams['xtick.top'] = True\n",
    "pl.rcParams['ytick.right'] = True"
   ]
  },
  {
   "cell_type": "markdown",
   "id": "d680c0b9",
   "metadata": {},
   "source": [
    "## RCMIP SSP1-2.6 emissions"
   ]
  },
  {
   "cell_type": "code",
   "execution_count": null,
   "id": "8fd721d5",
   "metadata": {},
   "outputs": [],
   "source": [
    "ssp_df = pd.read_csv('../data_input/rcmip/rcmip-emissions-annual-means-v5-1-0.csv')\n",
    "years = np.arange(1750, 2111)\n",
    "years_future = [2015] + list(range(2020,2111,10))\n",
    "\n",
    "startyear = 1750\n",
    "first_scenyear = 2015\n",
    "last_scenyear = 2110\n",
    "first_row = int(first_scenyear-startyear)\n",
    "last_row = int(last_scenyear-startyear)\n",
    "\n",
    "scenarios = ['ssp126']\n",
    "\n",
    "species = [  # in fair 1.6, order is important\n",
    "    '|CO2|MAGICC Fossil and Industrial',\n",
    "    '|CO2|MAGICC AFOLU',\n",
    "    '|CH4',\n",
    "    '|N2O',\n",
    "    '|Sulfur',\n",
    "    '|CO',\n",
    "    '|VOC',\n",
    "    '|NOx',\n",
    "    '|BC',\n",
    "    '|OC',\n",
    "    '|NH3',\n",
    "    '|CF4',\n",
    "    '|C2F6',\n",
    "    '|C6F14',\n",
    "    '|HFC23',\n",
    "    '|HFC32',\n",
    "    '|HFC4310mee',\n",
    "    '|HFC125',\n",
    "    '|HFC134a',\n",
    "    '|HFC143a',\n",
    "    '|HFC227ea',\n",
    "    '|HFC245fa',\n",
    "    '|SF6',\n",
    "    '|CFC11',\n",
    "    '|CFC12',\n",
    "    '|CFC113',\n",
    "    '|CFC114',\n",
    "    '|CFC115',\n",
    "    '|CCl4',\n",
    "    '|CH3CCl3',\n",
    "    '|HCFC22',\n",
    "    '|HCFC141b',\n",
    "    '|HCFC142b',\n",
    "    '|Halon1211',\n",
    "    '|Halon1202',\n",
    "    '|Halon1301',\n",
    "    '|Halon2402',\n",
    "    '|CH3Br',\n",
    "    '|CH3Cl',\n",
    "]\n",
    "\n",
    "# Assume that units coming out of aneris don't change. One day I'll do unit parsing\n",
    "unit_convert = np.ones(40)\n",
    "unit_convert[1] = 12/44/1000\n",
    "unit_convert[2] = 12/44/1000\n",
    "unit_convert[4] = 28/44/1000\n",
    "unit_convert[5] = 32/64\n",
    "unit_convert[8] = 14/46\n",
    "\n",
    "data_out = {}\n",
    "\n",
    "for scenario in scenarios:\n",
    "    data_out[scenario] = np.ones((361, 40)) * np.nan\n",
    "    data_out[scenario][:,0] = years\n",
    "\n",
    "    # past emissions from Zeb\n",
    "    for i, specie in enumerate(species):\n",
    "        data_out[scenario][:,i+1] = ssp_df.loc[(ssp_df['Region']=='World')&(ssp_df['Scenario']==scenario)&(ssp_df['Variable'].str.endswith(specie)),str(startyear):'2110'].interpolate(axis=1)*unit_convert[i+1]"
   ]
  },
  {
   "cell_type": "code",
   "execution_count": null,
   "id": "778e1e82",
   "metadata": {},
   "outputs": [],
   "source": [
    "pl.plot(data_out[scenario][250:300, 0], data_out[scenario][250:300, 11])"
   ]
  },
  {
   "cell_type": "code",
   "execution_count": null,
   "id": "78d7f358",
   "metadata": {},
   "outputs": [],
   "source": [
    "results_out = {}"
   ]
  },
  {
   "cell_type": "markdown",
   "id": "e53f990a",
   "metadata": {},
   "source": [
    "## Load up slim configs\n",
    "\n",
    "This contains about 3700 ensemble members - we don't use future carbon cycle assessments to constrain the ensemble. Other differences:\n",
    "\n",
    "- volcanic forcing efficacy of 0.6\n",
    "- solar forcing zero after 2019\n",
    "\n",
    "The slim config is a good deal smaller than the AR6 json - but we need a bit of extra code to convert this into what is used in AR6."
   ]
  },
  {
   "cell_type": "code",
   "execution_count": null,
   "id": "6152c849",
   "metadata": {},
   "outputs": [],
   "source": [
    "with open('../data_input/ar6-fair-samples/fair-1.6.2-wg3-params-common.json') as f:\n",
    "    config_list_common = json.load(f)"
   ]
  },
  {
   "cell_type": "code",
   "execution_count": null,
   "id": "4603eb6a",
   "metadata": {},
   "outputs": [],
   "source": [
    "with open('../data_input/ar6-fair-samples/fair-1.6.2-wg3-params-slim-reconstrained.json') as f:\n",
    "    config_list_variable = json.load(f)"
   ]
  },
  {
   "cell_type": "code",
   "execution_count": null,
   "id": "cf0e680d",
   "metadata": {},
   "outputs": [],
   "source": [
    "updated_config = []\n",
    "for i, cfg in enumerate(config_list_variable):\n",
    "    updated_config.append({})\n",
    "    for key, value in cfg.items():\n",
    "        if isinstance(value, list):\n",
    "            updated_config[i][key] = np.asarray(value)\n",
    "        else:\n",
    "            updated_config[i][key] = value\n",
    "    updated_config[i]['emissions'] = data_out['ssp126']\n",
    "    updated_config[i]['diagnostics'] = 'AR6'\n",
    "    updated_config[i][\"efficacy\"] = np.ones(45)\n",
    "    updated_config[i][\"efficacy\"][43] = 0.6\n",
    "    updated_config[i][\"gir_carbon_cycle\"] = True\n",
    "    updated_config[i][\"temperature_function\"] = \"Geoffroy\"\n",
    "    updated_config[i][\"aerosol_forcing\"] = \"aerocom+ghan2\"\n",
    "    updated_config[i][\"fixPre1850RCP\"] = False\n",
    "    \n",
    "    e_pi = np.zeros(40)\n",
    "    c_pi = np.zeros(31)\n",
    "    scale = np.ones(45)\n",
    "    for idx in range(5, 12):\n",
    "        e_pi[idx] = config_list_common[\"E_pi\"][idx - 5]\n",
    "    c_pi[0] = cfg[\"C_pi_CO2\"]\n",
    "    c_pi[1] = config_list_common[\"C_pi\"][0]\n",
    "    c_pi[2] = config_list_common[\"C_pi\"][1]\n",
    "    c_pi[3] = config_list_common[\"C_pi\"][2]\n",
    "    c_pi[20] = config_list_common[\"C_pi\"][3]\n",
    "    c_pi[25] = config_list_common[\"C_pi\"][4]\n",
    "    c_pi[29] = config_list_common[\"C_pi\"][5]\n",
    "    c_pi[30] = config_list_common[\"C_pi\"][6]\n",
    "    scale[1] = cfg[\"scale\"][0]\n",
    "    scale[2] = cfg[\"scale\"][1]\n",
    "    for idx in range(3, 31):\n",
    "        scale[idx] = cfg[\"scale\"][2]\n",
    "    scale[15] = scale[15] * config_list_common[\"cfc11_adj\"]\n",
    "    scale[16] = scale[16] * config_list_common[\"cfc12_adj\"]\n",
    "    scale[33] = cfg[\"scale\"][3]\n",
    "    scale[34] = cfg[\"scale\"][4]\n",
    "    scale[41] = cfg[\"scale\"][5]\n",
    "    scale[42] = cfg[\"scale\"][6]\n",
    "    scale[43] = cfg[\"scale\"][7]\n",
    "    f_solar = np.zeros(361)\n",
    "    f_solar[:270] = (\n",
    "        np.linspace(0, cfg[\"trend_solar\"], 270)\n",
    "        + np.array(config_list_common[\"default_solar\"])[:270] * cfg[\"scale\"][8]\n",
    "    )\n",
    "    f_solar[270:] = (\n",
    "        cfg[\"trend_solar\"]\n",
    "#        + np.array(config_list_common[\"default_solar\"])[270:351] * cfg[\"scale\"][8]\n",
    "    )\n",
    "#    f_solar[351:361] = np.array(config_list_common[\"default_solar\"])[351:]\n",
    "    \n",
    "    updated_config[i][\"b_aero\"] = [\n",
    "        cfg[\"b_aero\"][0],\n",
    "        0,\n",
    "        0,\n",
    "        0,\n",
    "        cfg[\"b_aero\"][1],\n",
    "        cfg[\"b_aero\"][2],\n",
    "        cfg[\"b_aero\"][3],\n",
    "    ]\n",
    "    updated_config[i][\"E_pi\"] = e_pi\n",
    "    updated_config[i][\"scale\"] = scale\n",
    "    updated_config[i][\"F_solar\"] = f_solar\n",
    "    updated_config[i][\"F_volcanic\"] = np.array(config_list_common[\"default_volcanic\"])\n",
    "    updated_config[i][\"C_pi\"] = c_pi\n",
    "    updated_config[i][\"ghg_forcing\"] = config_list_common[\"ghg_forcing\"]\n",
    "    updated_config[i][\"aCO2land\"] = config_list_common[\"aCO2land\"]\n",
    "    updated_config[i][\"stwv_from_ch4\"] = config_list_common[\"stwv_from_ch4\"]\n",
    "    updated_config[i][\"F_ref_BC\"] = config_list_common[\"F_ref_BC\"]\n",
    "    updated_config[i][\"E_ref_BC\"] = config_list_common[\"E_ref_BC\"]\n",
    "    updated_config[i][\"tropO3_forcing\"] = config_list_common[\"tropO3_forcing\"]\n",
    "    updated_config[i][\"natural\"] = np.array(config_list_common[\"natural\"])\n",
    "    \n",
    "    # delete params that are not arguments to fair\n",
    "    del updated_config[i][\"trend_solar\"]\n",
    "    del updated_config[i][\"C_pi_CO2\"]"
   ]
  },
  {
   "cell_type": "code",
   "execution_count": null,
   "id": "abae3dd0",
   "metadata": {},
   "outputs": [],
   "source": [
    "updated_config[0]"
   ]
  },
  {
   "cell_type": "markdown",
   "id": "50e519d4",
   "metadata": {},
   "source": [
    "## Run FaIR"
   ]
  },
  {
   "cell_type": "code",
   "execution_count": null,
   "id": "5d962ceb",
   "metadata": {},
   "outputs": [],
   "source": [
    "def run_fair(args):\n",
    "    thisC, thisF, thisT, _, thisOHU, _, thisAF = fair.forward.fair_scm(**args)\n",
    "    return (thisT, thisF[:,35:41].sum(axis=1))\n",
    "\n",
    "def fair_process(emissions):\n",
    "    updated_config = []\n",
    "    for i, cfg in enumerate(config_list_variable):\n",
    "        updated_config.append({})\n",
    "        for key, value in cfg.items():\n",
    "            if isinstance(value, list):\n",
    "                updated_config[i][key] = np.asarray(value)\n",
    "            else:\n",
    "                updated_config[i][key] = value\n",
    "        updated_config[i]['emissions'] = emissions\n",
    "        updated_config[i]['diagnostics'] = 'AR6'\n",
    "        updated_config[i][\"efficacy\"] = np.ones(45)\n",
    "        updated_config[i][\"efficacy\"][43] = 0.6\n",
    "        updated_config[i][\"gir_carbon_cycle\"] = True\n",
    "        updated_config[i][\"temperature_function\"] = \"Geoffroy\"\n",
    "        updated_config[i][\"aerosol_forcing\"] = \"aerocom+ghan2\"\n",
    "        updated_config[i][\"fixPre1850RCP\"] = False\n",
    "\n",
    "        e_pi = np.zeros(40)\n",
    "        c_pi = np.zeros(31)\n",
    "        scale = np.ones(45)\n",
    "        for idx in range(5, 12):\n",
    "            e_pi[idx] = config_list_common[\"E_pi\"][idx - 5]\n",
    "        c_pi[0] = cfg[\"C_pi_CO2\"]\n",
    "        c_pi[1] = config_list_common[\"C_pi\"][0]\n",
    "        c_pi[2] = config_list_common[\"C_pi\"][1]\n",
    "        c_pi[3] = config_list_common[\"C_pi\"][2]\n",
    "        c_pi[20] = config_list_common[\"C_pi\"][3]\n",
    "        c_pi[25] = config_list_common[\"C_pi\"][4]\n",
    "        c_pi[29] = config_list_common[\"C_pi\"][5]\n",
    "        c_pi[30] = config_list_common[\"C_pi\"][6]\n",
    "        scale[1] = cfg[\"scale\"][0]\n",
    "        scale[2] = cfg[\"scale\"][1]\n",
    "        for idx in range(3, 31):\n",
    "            scale[idx] = cfg[\"scale\"][2]\n",
    "        scale[15] = scale[15] * config_list_common[\"cfc11_adj\"]\n",
    "        scale[16] = scale[16] * config_list_common[\"cfc12_adj\"]\n",
    "        scale[33] = cfg[\"scale\"][3]\n",
    "        scale[34] = cfg[\"scale\"][4]\n",
    "        scale[41] = cfg[\"scale\"][5]\n",
    "        scale[42] = cfg[\"scale\"][6]\n",
    "        scale[43] = cfg[\"scale\"][7]\n",
    "        f_solar = np.zeros(361)\n",
    "        f_solar[:270] = (\n",
    "            np.linspace(0, cfg[\"trend_solar\"], 270)\n",
    "            + np.array(config_list_common[\"default_solar\"])[:270] * cfg[\"scale\"][8]\n",
    "        )\n",
    "        f_solar[270:] = (\n",
    "            cfg[\"trend_solar\"]\n",
    "    #        + np.array(config_list_common[\"default_solar\"])[270:351] * cfg[\"scale\"][8]\n",
    "        )\n",
    "    #    f_solar[351:361] = np.array(config_list_common[\"default_solar\"])[351:]\n",
    "\n",
    "        updated_config[i][\"b_aero\"] = [\n",
    "            cfg[\"b_aero\"][0],\n",
    "            0,\n",
    "            0,\n",
    "            0,\n",
    "            cfg[\"b_aero\"][1],\n",
    "            cfg[\"b_aero\"][2],\n",
    "            cfg[\"b_aero\"][3],\n",
    "        ]\n",
    "        updated_config[i][\"E_pi\"] = e_pi\n",
    "        updated_config[i][\"scale\"] = scale\n",
    "        updated_config[i][\"F_solar\"] = f_solar\n",
    "        updated_config[i][\"F_volcanic\"] = np.array(config_list_common[\"default_volcanic\"])\n",
    "        updated_config[i][\"C_pi\"] = c_pi\n",
    "        updated_config[i][\"ghg_forcing\"] = config_list_common[\"ghg_forcing\"]\n",
    "        updated_config[i][\"aCO2land\"] = config_list_common[\"aCO2land\"]\n",
    "        updated_config[i][\"stwv_from_ch4\"] = config_list_common[\"stwv_from_ch4\"]\n",
    "        updated_config[i][\"F_ref_BC\"] = config_list_common[\"F_ref_BC\"]\n",
    "        updated_config[i][\"E_ref_BC\"] = config_list_common[\"E_ref_BC\"]\n",
    "        updated_config[i][\"tropO3_forcing\"] = config_list_common[\"tropO3_forcing\"]\n",
    "        updated_config[i][\"natural\"] = np.array(config_list_common[\"natural\"])\n",
    "\n",
    "        # delete params that are not arguments to fair\n",
    "        del updated_config[i][\"trend_solar\"]\n",
    "        del updated_config[i][\"C_pi_CO2\"]\n",
    "        \n",
    "    # multiprocessing is not working for me on Windows\n",
    "    if platform.system() == 'Windows':\n",
    "        shape = (361, len(updated_config))\n",
    "        t = np.ones(shape) * np.nan\n",
    "        f_aer = np.ones(shape) * np.nan\n",
    "        for i, cfg in tqdm(enumerate(updated_config), total=len(updated_config), position=0, leave=True):\n",
    "            t[:,i], f_aer[:,i] = run_fair(updated_config[i])\n",
    "\n",
    "    else:\n",
    "        if __name__ == '__main__':\n",
    "            with Pool(WORKERS) as pool:\n",
    "                result = list(tqdm(pool.imap(run_fair, updated_config), total=len(updated_config), position=0, leave=True))\n",
    "\n",
    "        result_t = np.array(result).transpose(1,2,0)\n",
    "        t, f_aer = result_t\n",
    "    temp_rebase = t - t[100:151,:].mean(axis=0)\n",
    "\n",
    "    return temp_rebase, f_aer\n",
    "\n",
    "\n",
    "\n",
    "results_out = {}\n",
    "WORKERS = 7  # set this based on your individual machine - allows parallelisation. nprocessors-1 is a sensible shout.\n",
    "\n",
    "for scenario in tqdm(['ssp126'], position=0, leave=True):\n",
    "    results_out[scenario] = {}\n",
    "    (\n",
    "        results_out[scenario]['temperature'],\n",
    "        results_out[scenario]['ERFaer']\n",
    "    ) = fair_process(data_out[scenario])"
   ]
  },
  {
   "cell_type": "code",
   "execution_count": null,
   "id": "8b9ff9b6",
   "metadata": {},
   "outputs": [],
   "source": [
    "for scenario in scenarios:\n",
    "    for var in ['temperature', 'ERFaer']:\n",
    "        mkdir_p('../data_output/fair_{}/'.format(var))\n",
    "        df_out = pd.DataFrame(results_out[scenario][var][245:351,:])\n",
    "        df_out['year'] = np.arange(1995.5, 2101)\n",
    "        df_out.set_index('year', inplace=True)\n",
    "        df_out.to_csv('../data_output/fair_{}/{}.csv'.format(var, scenario), float_format=\"%6.4f\")"
   ]
  },
  {
   "cell_type": "code",
   "execution_count": null,
   "id": "a56b13de",
   "metadata": {},
   "outputs": [],
   "source": [
    "hadcrut5_df = pd.read_csv('../data_input/gsat/HadCRUT.5.0.1.0.analysis.summary_series.global.annual.csv')\n",
    "hadcrut5_df"
   ]
  },
  {
   "cell_type": "code",
   "execution_count": null,
   "id": "cfc9940b",
   "metadata": {},
   "outputs": [],
   "source": [
    "mkdir_p('../plots/')"
   ]
  },
  {
   "cell_type": "code",
   "execution_count": null,
   "id": "f24029f8",
   "metadata": {},
   "outputs": [],
   "source": [
    "n_ens = len(updated_config)"
   ]
  },
  {
   "cell_type": "code",
   "execution_count": null,
   "id": "06688023",
   "metadata": {},
   "outputs": [],
   "source": [
    "fig,ax=pl.subplots()\n",
    "ax.plot(np.arange(1750,2111), np.median(results_out['ssp126']['temperature'], axis=1), color='k', label='FaIR ensemble median')\n",
    "ax.fill_between(np.arange(1750,2111), np.percentile(results_out['ssp126']['temperature'], 5, axis=1), np.percentile(results_out['ssp126']['temperature'], 95, axis=1), label='FaIR 5-95% range', color=\"0.7\")\n",
    "ax.plot(hadcrut5_df.loc[0:171,'Time'], hadcrut5_df.loc[0:171,'Anomaly (deg C)']-hadcrut5_df.loc[0:50,'Anomaly (deg C)'].mean(), color='r', label='HadCRUT5')\n",
    "ax.set_xlim(1980,2100)\n",
    "ax.set_ylim(0,2.5)\n",
    "ax.axhline(1.5, ls=':', color='k')\n",
    "ax.set_title('SSP1-2.6')\n",
    "ax.legend(loc='lower right')\n",
    "ax.set_ylabel('Temperature relative to 1850-1900, °C')\n",
    "pl.figtext(1,0.02,'@chrisroadmap',ha='right', color='0.6')\n",
    "pl.figtext(0,0.02,f'{n_ens} ensemble members, FaIRv{fair.__version__}')\n",
    "#ax.text(0.99,0.01,'FaIRv1.6.2 2237 constrained ensemble members', transform=ax.transAxes, ha='right')\n",
    "#ax.text(0.99,)\n",
    "fig.tight_layout(rect=[0.0,0.05,1,1])\n",
    "fig.patch.set_facecolor('white')\n",
    "pl.savefig('../plots/ssp126-default.png')"
   ]
  },
  {
   "cell_type": "code",
   "execution_count": null,
   "id": "e727d68a",
   "metadata": {},
   "outputs": [],
   "source": [
    "fig,ax=pl.subplots()\n",
    "ax.plot(np.arange(1750,2111), np.median(results_out['ssp126']['ERFaer'], axis=1), color='k', label='FaIR ensemble median')\n",
    "ax.fill_between(np.arange(1750,2111), np.percentile(results_out['ssp126']['ERFaer'], 5, axis=1), np.percentile(results_out['ssp126']['ERFaer'], 95, axis=1), label='FaIR 5-95% range', color=\"0.7\")\n",
    "#ax.plot(hadcrut5_df.loc[0:170,'Time'], hadcrut5_df.loc[0:170,'Anomaly (deg C)']-hadcrut5_df.loc[0:50,'Anomaly (deg C)'].mean(), color='r', label='HadCRUT5')\n",
    "#ax.set_xlim(1980,2100)"
   ]
  },
  {
   "cell_type": "code",
   "execution_count": null,
   "id": "5ef40c74",
   "metadata": {},
   "outputs": [],
   "source": [
    "results_out['ssp126']['ERFaer'][269,:].mean()"
   ]
  },
  {
   "cell_type": "code",
   "execution_count": null,
   "id": "0a185a7c",
   "metadata": {},
   "outputs": [],
   "source": [
    "accept_prob = st.uniform.rvs(loc=0, scale=1, size=n_ens, random_state=79)\n",
    "constraint1 = np.zeros(n_ens, dtype=bool)\n",
    "for i in range(n_ens):\n",
    "    likelihood = st.norm.pdf(results_out['ssp126']['ERFaer'][269,:][i], loc=-1.58, scale=0.10)/st.norm.pdf(-1.58, loc=-1.58, scale=0.10)\n",
    "    if likelihood>=accept_prob[i]:\n",
    "        constraint1[i] = True\n",
    "    #print(likelihood)\n",
    "np.sum(constraint1)"
   ]
  },
  {
   "cell_type": "code",
   "execution_count": null,
   "id": "a62b094c",
   "metadata": {},
   "outputs": [],
   "source": [
    "pl.hist(results_out['ssp126']['ERFaer'][269,constraint1])"
   ]
  },
  {
   "cell_type": "code",
   "execution_count": null,
   "id": "22c65f7a",
   "metadata": {},
   "outputs": [],
   "source": [
    "results_out['ssp126']['ERFaer'][269,constraint1].mean()"
   ]
  },
  {
   "cell_type": "code",
   "execution_count": null,
   "id": "29091503",
   "metadata": {},
   "outputs": [],
   "source": [
    "results_out['ssp126']['ERFaer'][269,constraint1].std()"
   ]
  },
  {
   "cell_type": "code",
   "execution_count": null,
   "id": "b97c2b7d",
   "metadata": {},
   "outputs": [],
   "source": [
    "accept_prob = st.uniform.rvs(loc=0, scale=1, size=n_ens, random_state=80)\n",
    "constraint2 = np.zeros(n_ens, dtype=bool)\n",
    "for i in range(n_ens):\n",
    "    likelihood = st.norm.pdf(results_out['ssp126']['ERFaer'][269,:][i], loc=-0.44, scale=0.105)/st.norm.pdf(-0.44, loc=-0.44, scale=0.105)\n",
    "    if likelihood>=accept_prob[i]:\n",
    "        constraint2[i] = True\n",
    "    #print(likelihood)\n",
    "np.sum(constraint2)"
   ]
  },
  {
   "cell_type": "code",
   "execution_count": null,
   "id": "a5405ab6",
   "metadata": {},
   "outputs": [],
   "source": [
    "pl.hist(results_out['ssp126']['ERFaer'][269,constraint2])"
   ]
  },
  {
   "cell_type": "code",
   "execution_count": null,
   "id": "b0bbac6e",
   "metadata": {},
   "outputs": [],
   "source": [
    "results_out['ssp126']['ERFaer'][269,constraint2].std()"
   ]
  },
  {
   "cell_type": "code",
   "execution_count": null,
   "id": "b4dee51c",
   "metadata": {},
   "outputs": [],
   "source": [
    "results_out['ssp126']['ERFaer'][269,constraint2].mean()"
   ]
  },
  {
   "cell_type": "code",
   "execution_count": null,
   "id": "2b524877",
   "metadata": {},
   "outputs": [],
   "source": [
    "fig,ax=pl.subplots(figsize=(10,10))\n",
    "ax.plot(np.arange(1750,2111), np.median(results_out['ssp126']['temperature'][:,constraint1], axis=1), color='b')\n",
    "ax.fill_between(np.arange(1750,2111), np.percentile(results_out['ssp126']['temperature'][:,constraint1], 5, axis=1), np.percentile(results_out['ssp126']['temperature'][:,constraint1], 95, axis=1), color=\"b\", alpha=0.2, label='strong PD Faer (%.2f $\\pm$ %.2f) W m$^{-2}$' % (results_out['ssp126']['ERFaer'][269,constraint1].mean(), results_out['ssp126']['ERFaer'][269,constraint1].std()))\n",
    "ax.plot(np.arange(1750,2111), np.median(results_out['ssp126']['temperature'][:,constraint2], axis=1), color='g')\n",
    "ax.fill_between(np.arange(1750,2111), np.percentile(results_out['ssp126']['temperature'][:,constraint2], 5, axis=1), np.percentile(results_out['ssp126']['temperature'][:,constraint2], 95, axis=1), color=\"g\", alpha=0.2, label='weak PD Faer (%.2f $\\pm$ %.2f) W m$^{-2}$' % (results_out['ssp126']['ERFaer'][269,constraint2].mean(), results_out['ssp126']['ERFaer'][269,constraint1].std()))\n",
    "ax.plot(np.arange(1750,2111), np.median(results_out['ssp126']['temperature'], axis=1), color='k')\n",
    "ax.fill_between(np.arange(1750,2111), np.percentile(results_out['ssp126']['temperature'], 5, axis=1), np.percentile(results_out['ssp126']['temperature'], 95, axis=1), label='AR6 ensemble (%.2f $\\pm$ %.2f) W m$^{-2}$' % (results_out['ssp126']['ERFaer'][269,:].mean(), results_out['ssp126']['ERFaer'][269,:].std()), color=\"k\", alpha=0.2)\n",
    "ax.plot(hadcrut5_df.loc[0:171,'Time'], hadcrut5_df.loc[0:171,'Anomaly (deg C)']-hadcrut5_df.loc[0:50,'Anomaly (deg C)'].mean(), color='r', label='HadCRUT5')\n",
    "ax.set_xlim(1980,2100)\n",
    "ax.set_ylim(0,3)\n",
    "ax.axhline(1.5, ls=':', color='k')\n",
    "ax.legend(loc='upper left')\n",
    "ax.set_title('SSP1-2.6')\n",
    "pl.savefig('../plots/ssp126_three_aer_forcings.png')"
   ]
  },
  {
   "cell_type": "code",
   "execution_count": null,
   "id": "21b93db8",
   "metadata": {},
   "outputs": [],
   "source": []
  }
 ],
 "metadata": {
  "kernelspec": {
   "display_name": "Python 3",
   "language": "python",
   "name": "python3"
  },
  "language_info": {
   "codemirror_mode": {
    "name": "ipython",
    "version": 3
   },
   "file_extension": ".py",
   "mimetype": "text/x-python",
   "name": "python",
   "nbconvert_exporter": "python",
   "pygments_lexer": "ipython3",
   "version": "3.10.2"
  }
 },
 "nbformat": 4,
 "nbformat_minor": 5
}
